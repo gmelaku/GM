{
  "nbformat": 4,
  "nbformat_minor": 0,
  "metadata": {
    "name": "PS12-2",
    "notebookId": 674178865138501,
    "colab": {
      "name": "PS12-2.ipynb",
      "provenance": [],
      "include_colab_link": true
    }
  },
  "cells": [
    {
      "cell_type": "markdown",
      "metadata": {
        "id": "view-in-github",
        "colab_type": "text"
      },
      "source": [
        "<a href=\"https://colab.research.google.com/github/gmelaku/GM/blob/master/PS12_2.ipynb\" target=\"_parent\"><img src=\"https://colab.research.google.com/assets/colab-badge.svg\" alt=\"Open In Colab\"/></a>"
      ]
    },
    {
      "cell_type": "markdown",
      "metadata": {
        "id": "ZbN_xESHPC1G",
        "colab_type": "text"
      },
      "source": [
        "## Sentiment Analysis of 2020 US Presidential Candidate's twitter feed"
      ]
    },
    {
      "cell_type": "markdown",
      "metadata": {
        "id": "dItY6FV7PC1H",
        "colab_type": "text"
      },
      "source": [
        "#### By Gebremedhin Melaku"
      ]
    },
    {
      "cell_type": "markdown",
      "metadata": {
        "id": "2pv9WSeyPC1I",
        "colab_type": "text"
      },
      "source": [
        "Install Tweepy and textblob and import the necessary libraries"
      ]
    },
    {
      "cell_type": "code",
      "metadata": {
        "id": "3GwlCEaRPC1J",
        "colab_type": "code",
        "colab": {},
        "outputId": "e6f60b62-b171-42d2-c34f-718fe13d7d5c"
      },
      "source": [
        "!pip install tweepy\n",
        "!pip install textblob\n",
        "import tweepy\n",
        "from tweepy import API \n",
        "from tweepy import Cursor\n",
        "from tweepy.streaming import StreamListener\n",
        "from tweepy import OAuthHandler\n",
        "from tweepy import Stream\n",
        "from textblob import TextBlob \n",
        "import matplotlib.pyplot as plt\n",
        "import numpy as np\n",
        "import pandas as pd\n",
        "import re\n"
      ],
      "execution_count": 0,
      "outputs": [
        {
          "output_type": "display_data",
          "data": {
            "text/html": [
              "<style scoped>\n",
              "  .ansiout {\n",
              "    display: block;\n",
              "    unicode-bidi: embed;\n",
              "    white-space: pre-wrap;\n",
              "    word-wrap: break-word;\n",
              "    word-break: break-all;\n",
              "    font-family: \"Source Code Pro\", \"Menlo\", monospace;;\n",
              "    font-size: 13px;\n",
              "    color: #555;\n",
              "    margin-left: 4px;\n",
              "    line-height: 19px;\n",
              "  }\n",
              "</style>\n",
              "<div class=\"ansiout\"></div>"
            ]
          },
          "metadata": {
            "tags": []
          }
        }
      ]
    },
    {
      "cell_type": "markdown",
      "metadata": {
        "id": "gDFYndvDPC1M",
        "colab_type": "text"
      },
      "source": [
        "##### Authenticate your tweepy API"
      ]
    },
    {
      "cell_type": "code",
      "metadata": {
        "id": "ndfGAAifPC1N",
        "colab_type": "code",
        "colab": {},
        "outputId": "7a12ddaf-4600-4465-ed11-14e5490dc7ec"
      },
      "source": [
        "auth = tweepy.OAuthHandler(CONSUMER_KEY, CONSUMER_SECRET)\n",
        "auth.set_access_token(ACCESS_TOKEN, ACCESS_TOKEN_SECRET)\n",
        "api = tweepy.API(auth)\n",
        "CONSUMER_KEY = \"WlPt2p3U5gXb9jAeipEhaec7p\"\n",
        "CONSUMER_SECRET = \"Z5ij8szjP399I1RrY6DJIGQ6nK63u7XJioI1osgECc3InsSQ6G\"\n",
        "ACCESS_TOKEN = \"762379377858453504-Psv8LQRbN3ID2IQYCq6Pn29xPnDOCjI\"\n",
        "ACCESS_TOKEN_SECRET = \"7mXxiVv7Ohx6vVgFmr77pBNODDoJW5LgDQ9GhrE2IE2FA\""
      ],
      "execution_count": 0,
      "outputs": [
        {
          "output_type": "display_data",
          "data": {
            "text/html": [
              "<style scoped>\n",
              "  .ansiout {\n",
              "    display: block;\n",
              "    unicode-bidi: embed;\n",
              "    white-space: pre-wrap;\n",
              "    word-wrap: break-word;\n",
              "    word-break: break-all;\n",
              "    font-family: \"Source Code Pro\", \"Menlo\", monospace;;\n",
              "    font-size: 13px;\n",
              "    color: #555;\n",
              "    margin-left: 4px;\n",
              "    line-height: 19px;\n",
              "  }\n",
              "</style>\n",
              "<div class=\"ansiout\"></div>"
            ]
          },
          "metadata": {
            "tags": []
          }
        }
      ]
    },
    {
      "cell_type": "markdown",
      "metadata": {
        "id": "W2AlMw8YPC1Q",
        "colab_type": "text"
      },
      "source": [
        "##### Create a Twitter Client"
      ]
    },
    {
      "cell_type": "markdown",
      "metadata": {
        "id": "12qzVdaTPC1Q",
        "colab_type": "text"
      },
      "source": [
        "We will create a Twitter client that will define the different APIs for analysis"
      ]
    },
    {
      "cell_type": "code",
      "metadata": {
        "id": "j2wt39QuPC1Q",
        "colab_type": "code",
        "colab": {},
        "outputId": "e421faf3-7918-490f-b543-1347b26ba808"
      },
      "source": [
        "class TwitterClient():\n",
        "    def __init__(self, twitter_user=None):\n",
        "        self.auth = TwitterAuthenticator().authenticate_twitter_app()\n",
        "        self.twitter_client = API(self.auth)\n",
        "\n",
        "        self.twitter_user = twitter_user\n",
        "\n",
        "    def get_twitter_client_api(self):\n",
        "        return self.twitter_client\n",
        "\n",
        "    def get_user_timeline_tweets(self, num_tweets):\n",
        "        tweets = []\n",
        "        for tweet in Cursor(self.twitter_client.user_timeline, id=self.twitter_user).items(num_tweets):\n",
        "            tweets.append(tweet)\n",
        "        return tweets\n",
        "\n",
        "    def get_friend_list(self, num_friends):\n",
        "        friend_list = []\n",
        "        for friend in Cursor(self.twitter_client.friends, id=self.twitter_user).items(num_friends):\n",
        "            friend_list.append(friend)\n",
        "        return friend_list\n",
        "\n",
        "    def get_home_timeline_tweets(self, num_tweets):\n",
        "        home_timeline_tweets = []\n",
        "        for tweet in Cursor(self.twitter_client.home_timeline, id=self.twitter_user).items(num_tweets):\n",
        "            home_timeline_tweets.append(tweet)\n",
        "        return home_timeline_tweets\n"
      ],
      "execution_count": 0,
      "outputs": [
        {
          "output_type": "display_data",
          "data": {
            "text/html": [
              "<style scoped>\n",
              "  .ansiout {\n",
              "    display: block;\n",
              "    unicode-bidi: embed;\n",
              "    white-space: pre-wrap;\n",
              "    word-wrap: break-word;\n",
              "    word-break: break-all;\n",
              "    font-family: \"Source Code Pro\", \"Menlo\", monospace;;\n",
              "    font-size: 13px;\n",
              "    color: #555;\n",
              "    margin-left: 4px;\n",
              "    line-height: 19px;\n",
              "  }\n",
              "</style>\n",
              "<div class=\"ansiout\"></div>"
            ]
          },
          "metadata": {
            "tags": []
          }
        }
      ]
    },
    {
      "cell_type": "markdown",
      "metadata": {
        "id": "EldT45i_PC1T",
        "colab_type": "text"
      },
      "source": [
        "#### Twitter Streamer"
      ]
    },
    {
      "cell_type": "code",
      "metadata": {
        "id": "oNqVQeuEPC1U",
        "colab_type": "code",
        "colab": {},
        "outputId": "234cb62f-8680-40a5-d9b4-9384f4349dd6"
      },
      "source": [
        "class TwitterAuthenticator():\n",
        "\n",
        "    def authenticate_twitter_app(self):\n",
        "        auth = OAuthHandler(CONSUMER_KEY, CONSUMER_SECRET)\n",
        "        auth.set_access_token(ACCESS_TOKEN, ACCESS_TOKEN_SECRET)\n",
        "        return auth\n",
        "\n",
        "class TwitterStreamer():\n",
        "    \"\"\"\n",
        "    Class for streaming and processing live tweets.\n",
        "    \"\"\"\n",
        "    def __init__(self):\n",
        "        self.twitter_autenticator = TwitterAuthenticator()    \n",
        "\n",
        "    def stream_tweets(self, fetched_tweets_filename, hash_tag_list):\n",
        "        # This handles Twitter authetification and the connection to Twitter Streaming API\n",
        "        listener = TwitterListener(fetched_tweets_filename)\n",
        "        auth = self.twitter_autenticator.authenticate_twitter_app() \n",
        "        stream = Stream(auth, listener)\n",
        "\n",
        "        # This line filter Twitter Streams to capture data by the keywords: \n",
        "        stream.filter(track=hash_tag_list)\n"
      ],
      "execution_count": 0,
      "outputs": [
        {
          "output_type": "display_data",
          "data": {
            "text/html": [
              "<style scoped>\n",
              "  .ansiout {\n",
              "    display: block;\n",
              "    unicode-bidi: embed;\n",
              "    white-space: pre-wrap;\n",
              "    word-wrap: break-word;\n",
              "    word-break: break-all;\n",
              "    font-family: \"Source Code Pro\", \"Menlo\", monospace;;\n",
              "    font-size: 13px;\n",
              "    color: #555;\n",
              "    margin-left: 4px;\n",
              "    line-height: 19px;\n",
              "  }\n",
              "</style>\n",
              "<div class=\"ansiout\"></div>"
            ]
          },
          "metadata": {
            "tags": []
          }
        }
      ]
    },
    {
      "cell_type": "markdown",
      "metadata": {
        "id": "AbMmuYzTPC1W",
        "colab_type": "text"
      },
      "source": [
        "#### Twitter Stream Listener"
      ]
    },
    {
      "cell_type": "code",
      "metadata": {
        "id": "O8UlcO30PC1W",
        "colab_type": "code",
        "colab": {},
        "outputId": "f9e1a4d9-9c9b-42ad-9998-75e5e7a08907"
      },
      "source": [
        "class TwitterListener(StreamListener):\n",
        "   \n",
        "    def __init__(self, fetched_tweets_filename):\n",
        "        self.fetched_tweets_filename = fetched_tweets_filename\n",
        "\n",
        "    def on_data(self, data):\n",
        "        try:\n",
        "            print(data)\n",
        "            with open(self.fetched_tweets_filename, 'a') as tf:\n",
        "                tf.write(data)\n",
        "            return True\n",
        "        except BaseException as e:\n",
        "            print(\"Error on_data %s\" % str(e))\n",
        "        return True\n",
        "          \n",
        "    def on_error(self, status):\n",
        "        if status == 420:\n",
        "            # Returning False on_data method in case rate limit occurs.\n",
        "            return False\n",
        "        print(status)\n"
      ],
      "execution_count": 0,
      "outputs": [
        {
          "output_type": "display_data",
          "data": {
            "text/html": [
              "<style scoped>\n",
              "  .ansiout {\n",
              "    display: block;\n",
              "    unicode-bidi: embed;\n",
              "    white-space: pre-wrap;\n",
              "    word-wrap: break-word;\n",
              "    word-break: break-all;\n",
              "    font-family: \"Source Code Pro\", \"Menlo\", monospace;;\n",
              "    font-size: 13px;\n",
              "    color: #555;\n",
              "    margin-left: 4px;\n",
              "    line-height: 19px;\n",
              "  }\n",
              "</style>\n",
              "<div class=\"ansiout\"></div>"
            ]
          },
          "metadata": {
            "tags": []
          }
        }
      ]
    },
    {
      "cell_type": "markdown",
      "metadata": {
        "id": "ebl1oCx7PC1Z",
        "colab_type": "text"
      },
      "source": [
        "#### Tweet Analyzer, cleaning and defining the polarity of the sentiment"
      ]
    },
    {
      "cell_type": "markdown",
      "metadata": {
        "id": "TnGTwd_tPC1a",
        "colab_type": "text"
      },
      "source": [
        "We will define sentiment analysis using TextBlob() function. We will also define the polarity of the tweet sentiment where >1 is regarded as a positive sentiment and <1 as a negative sentiment. a value of 0 will be taken as the tweet being neutral.\n",
        "\n",
        "We will also define a clean_tweet by removing all the special characters within each tweets"
      ]
    },
    {
      "cell_type": "code",
      "metadata": {
        "id": "4tUy5MN8PC1a",
        "colab_type": "code",
        "colab": {},
        "outputId": "3f6aeadc-dc4f-451c-98e4-eb25e52158cf"
      },
      "source": [
        "class TweetAnalyzer():\n",
        "\n",
        "    def clean_tweet(self, tweet):\n",
        "        return ' '.join(re.sub(\"(@[A-Za-z0-9]+)|([^0-9A-Za-z \\t])|(\\w+:\\/\\/\\S+)\", \" \", tweet).split())\n",
        "\n",
        "    def analyze_sentiment(self, tweet):\n",
        "        analysis = TextBlob(self.clean_tweet(tweet))\n",
        "        \n",
        "        if analysis.sentiment.polarity > 0:\n",
        "            return 1\n",
        "        elif analysis.sentiment.polarity == 0:\n",
        "            return 0\n",
        "        else:\n",
        "            return -1\n",
        "\n",
        "    def tweets_to_data_frame(self, tweets):\n",
        "        df = pd.DataFrame(data=[tweet.text for tweet in tweets], columns=['tweets'])\n",
        "\n",
        "        df['id'] = np.array([tweet.id for tweet in tweets])\n",
        "        df['len'] = np.array([len(tweet.text) for tweet in tweets])\n",
        "        df['date'] = np.array([tweet.created_at for tweet in tweets])\n",
        "        df['source'] = np.array([tweet.source for tweet in tweets])\n",
        "        df['likes'] = np.array([tweet.favorite_count for tweet in tweets])\n",
        "        df['retweets'] = np.array([tweet.retweet_count for tweet in tweets])\n",
        "\n",
        "        return df"
      ],
      "execution_count": 0,
      "outputs": [
        {
          "output_type": "display_data",
          "data": {
            "text/html": [
              "<style scoped>\n",
              "  .ansiout {\n",
              "    display: block;\n",
              "    unicode-bidi: embed;\n",
              "    white-space: pre-wrap;\n",
              "    word-wrap: break-word;\n",
              "    word-break: break-all;\n",
              "    font-family: \"Source Code Pro\", \"Menlo\", monospace;;\n",
              "    font-size: 13px;\n",
              "    color: #555;\n",
              "    margin-left: 4px;\n",
              "    line-height: 19px;\n",
              "  }\n",
              "</style>\n",
              "<div class=\"ansiout\"></div>"
            ]
          },
          "metadata": {
            "tags": []
          }
        }
      ]
    },
    {
      "cell_type": "markdown",
      "metadata": {
        "id": "h9c05I0cPC1d",
        "colab_type": "text"
      },
      "source": [
        "#### Analyze Sentiment for the Candidates"
      ]
    },
    {
      "cell_type": "markdown",
      "metadata": {
        "id": "MDJDWRsuPC1d",
        "colab_type": "text"
      },
      "source": [
        "##### Sentiment Analysis of the last 200 tweets of Donald J Trump"
      ]
    },
    {
      "cell_type": "markdown",
      "metadata": {
        "id": "vYJQbOFLPC1e",
        "colab_type": "text"
      },
      "source": [
        "First we will add an additional Column named \"sentiment\"."
      ]
    },
    {
      "cell_type": "code",
      "metadata": {
        "id": "7IcHv2gUPC1e",
        "colab_type": "code",
        "colab": {},
        "outputId": "22342bef-01aa-4b57-8b19-633ad6353dc4"
      },
      "source": [
        "if __name__ == '__main__':\n",
        "\n",
        "    twitter_client = TwitterClient()\n",
        "    tweet_analyzer = TweetAnalyzer()\n",
        "\n",
        "    api = twitter_client.get_twitter_client_api()\n",
        "\n",
        "    tweets = api.user_timeline(screen_name=\"realDonaldTrump\", count=200)\n",
        "\n",
        "    df = tweet_analyzer.tweets_to_data_frame(tweets)\n",
        "    df['sentiment'] = np.array([tweet_analyzer.analyze_sentiment(tweet) for tweet in df['tweets']])\n",
        "\n",
        "    print(df.head(10))"
      ],
      "execution_count": 0,
      "outputs": [
        {
          "output_type": "display_data",
          "data": {
            "text/html": [
              "<style scoped>\n",
              "  .ansiout {\n",
              "    display: block;\n",
              "    unicode-bidi: embed;\n",
              "    white-space: pre-wrap;\n",
              "    word-wrap: break-word;\n",
              "    word-break: break-all;\n",
              "    font-family: \"Source Code Pro\", \"Menlo\", monospace;;\n",
              "    font-size: 13px;\n",
              "    color: #555;\n",
              "    margin-left: 4px;\n",
              "    line-height: 19px;\n",
              "  }\n",
              "</style>\n",
              "<div class=\"ansiout\">                                              tweets  ...  sentiment\n",
              "0  Such a wonderful reception yesterday in Pennsy...  ...          1\n",
              "1  I am proud to announce that the United States ...  ...          1\n",
              "2  Today I was presented with the brand new @Spac...  ...          1\n",
              "3  RT @WhiteHouse: Recent data &#34;made me feel even...  ...          1\n",
              "4  RT @WhiteHouse: Operation Warp Speed is &#34;a mas...  ...          0\n",
              "5  RT @WhiteHouse: LIVE: POTUS Delivers Remarks o...  ...          1\n",
              "6  Chicago’s @CTA has big federal resources headi...  ...          0\n",
              "7  I am proud to announce that @NJTransit will re...  ...          1\n",
              "8  ....Likewise, the @nytimes and @washingtonpost...  ...         -1\n",
              "9  Thank you to @foxandfriends for covering, supr...  ...          1\n",
              "\n",
              "[10 rows x 8 columns]\n",
              "</div>"
            ]
          },
          "metadata": {
            "tags": []
          }
        }
      ]
    },
    {
      "cell_type": "markdown",
      "metadata": {
        "id": "nwSqiNV8PC1g",
        "colab_type": "text"
      },
      "source": [
        "##### Sentiment visualization of the last 200 tweets of Donald J Trump"
      ]
    },
    {
      "cell_type": "code",
      "metadata": {
        "id": "ojHdg9QBPC1h",
        "colab_type": "code",
        "colab": {}
      },
      "source": [
        "import matplotlib.pyplot as plt\n",
        "time_likes = pd.Series(data=df['likes'].values, index=df['date'])\n",
        "time_likes.plot(figsize=(16, 4), label=\"likes\", legend=True)\n",
        "time_sentiment = pd.Series(data=df['sentiment'].values, index=df['date'])\n",
        "time_sentiment.plot(figsize=(16, 4), label=\"sentiment\", legend=True)\n",
        "plt.show()"
      ],
      "execution_count": 0,
      "outputs": []
    },
    {
      "cell_type": "markdown",
      "metadata": {
        "id": "xTEUcsocPC1j",
        "colab_type": "text"
      },
      "source": [
        "##### Average sentiment for the last 200 tweets of Donald J Trump"
      ]
    },
    {
      "cell_type": "code",
      "metadata": {
        "id": "EntykqrmPC1j",
        "colab_type": "code",
        "colab": {},
        "outputId": "86e10113-75cb-41aa-81e3-9498a2fc1759"
      },
      "source": [
        "print(np.mean(df['sentiment']))"
      ],
      "execution_count": 0,
      "outputs": [
        {
          "output_type": "display_data",
          "data": {
            "text/html": [
              "<style scoped>\n",
              "  .ansiout {\n",
              "    display: block;\n",
              "    unicode-bidi: embed;\n",
              "    white-space: pre-wrap;\n",
              "    word-wrap: break-word;\n",
              "    word-break: break-all;\n",
              "    font-family: \"Source Code Pro\", \"Menlo\", monospace;;\n",
              "    font-size: 13px;\n",
              "    color: #555;\n",
              "    margin-left: 4px;\n",
              "    line-height: 19px;\n",
              "  }\n",
              "</style>\n",
              "<div class=\"ansiout\">0.24242424242424243\n",
              "</div>"
            ]
          },
          "metadata": {
            "tags": []
          }
        }
      ]
    },
    {
      "cell_type": "markdown",
      "metadata": {
        "id": "DRkySATgPC1m",
        "colab_type": "text"
      },
      "source": [
        "##### Sentiment Analysis of the last 200 tweets of Joe Biden"
      ]
    },
    {
      "cell_type": "code",
      "metadata": {
        "id": "9njEP67hPC1m",
        "colab_type": "code",
        "colab": {},
        "outputId": "d2ba3a6e-e1df-49ff-d90e-0d53bd682f50"
      },
      "source": [
        "if __name__ == '__main__':\n",
        "\n",
        "    twitter_client = TwitterClient()\n",
        "    tweet_analyzer = TweetAnalyzer()\n",
        "\n",
        "    api = twitter_client.get_twitter_client_api()\n",
        "\n",
        "    tweets = api.user_timeline(screen_name=\"JoeBiden\", count=200)\n",
        "\n",
        "    df = tweet_analyzer.tweets_to_data_frame(tweets)\n",
        "    df['sentiment'] = np.array([tweet_analyzer.analyze_sentiment(tweet) for tweet in df['tweets']])\n",
        "\n",
        "    print(df.head(10))"
      ],
      "execution_count": 0,
      "outputs": [
        {
          "output_type": "display_data",
          "data": {
            "text/html": [
              "<style scoped>\n",
              "  .ansiout {\n",
              "    display: block;\n",
              "    unicode-bidi: embed;\n",
              "    white-space: pre-wrap;\n",
              "    word-wrap: break-word;\n",
              "    word-break: break-all;\n",
              "    font-family: \"Source Code Pro\", \"Menlo\", monospace;;\n",
              "    font-size: 13px;\n",
              "    color: #555;\n",
              "    margin-left: 4px;\n",
              "    line-height: 19px;\n",
              "  }\n",
              "</style>\n",
              "<div class=\"ansiout\">                                              tweets  ...  sentiment\n",
              "0  To everyone who has lost a loved one due to CO...  ...          1\n",
              "1  If you’re looking for ways to show off your su...  ...          1\n",
              "2  We have the power to create the future we want...  ...          0\n",
              "3  To all of our front line workers who are worki...  ...          0\n",
              "4  We are months into this crisis. There is simpl...  ...         -1\n",
              "5  Tonight, @StaceyAbrams and I will be joining @...  ...          0\n",
              "6              What he said. https://t.co/qfK5oHyFba  ...          0\n",
              "7  Donald Trump can deflect and shift blame all h...  ...         -1\n",
              "8  Sherian, a small business owner from South Car...  ...         -1\n",
              "9  The lives of tens of millions of Americans hav...  ...          1\n",
              "\n",
              "[10 rows x 8 columns]\n",
              "</div>"
            ]
          },
          "metadata": {
            "tags": []
          }
        }
      ]
    },
    {
      "cell_type": "markdown",
      "metadata": {
        "id": "G8SniaV9PC1p",
        "colab_type": "text"
      },
      "source": [
        "##### Sentiment visualization of the last 200 tweets of Joe Biden"
      ]
    },
    {
      "cell_type": "code",
      "metadata": {
        "id": "7JtknjPBPC1p",
        "colab_type": "code",
        "colab": {}
      },
      "source": [
        "time_likes = pd.Series(data=df['likes'].values, index=df['date'])\n",
        "time_likes.plot(figsize=(16, 4), label=\"likes\", legend=True)\n",
        "time_sentiment = pd.Series(data=df['sentiment'].values, index=df['date'])\n",
        "time_sentiment.plot(figsize=(16, 4), label=\"sentiment\", legend=True)\n",
        "plt.show()"
      ],
      "execution_count": 0,
      "outputs": []
    },
    {
      "cell_type": "markdown",
      "metadata": {
        "id": "hFd_NWIiPC1s",
        "colab_type": "text"
      },
      "source": [
        "##### Average sentiment for the last 200 tweets of Joe Biden"
      ]
    },
    {
      "cell_type": "code",
      "metadata": {
        "id": "ifA6UWBUPC1t",
        "colab_type": "code",
        "colab": {},
        "outputId": "7755fe1d-3537-4690-c5f8-2552861ea54c"
      },
      "source": [
        "print(np.mean(df['sentiment']))"
      ],
      "execution_count": 0,
      "outputs": [
        {
          "output_type": "display_data",
          "data": {
            "text/html": [
              "<style scoped>\n",
              "  .ansiout {\n",
              "    display: block;\n",
              "    unicode-bidi: embed;\n",
              "    white-space: pre-wrap;\n",
              "    word-wrap: break-word;\n",
              "    word-break: break-all;\n",
              "    font-family: \"Source Code Pro\", \"Menlo\", monospace;;\n",
              "    font-size: 13px;\n",
              "    color: #555;\n",
              "    margin-left: 4px;\n",
              "    line-height: 19px;\n",
              "  }\n",
              "</style>\n",
              "<div class=\"ansiout\">0.27\n",
              "</div>"
            ]
          },
          "metadata": {
            "tags": []
          }
        }
      ]
    }
  ]
}