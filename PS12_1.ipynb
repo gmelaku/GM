{
  "nbformat": 4,
  "nbformat_minor": 0,
  "metadata": {
    "name": "PS12-1",
    "notebookId": 3788231300719462,
    "colab": {
      "name": "PS12-1.ipynb",
      "provenance": [],
      "include_colab_link": true
    }
  },
  "cells": [
    {
      "cell_type": "markdown",
      "metadata": {
        "id": "view-in-github",
        "colab_type": "text"
      },
      "source": [
        "<a href=\"https://colab.research.google.com/github/gmelaku/GM/blob/master/PS12_1.ipynb\" target=\"_parent\"><img src=\"https://colab.research.google.com/assets/colab-badge.svg\" alt=\"Open In Colab\"/></a>"
      ]
    },
    {
      "cell_type": "markdown",
      "metadata": {
        "id": "W8AQ0V0COhwD",
        "colab_type": "text"
      },
      "source": [
        "#Tweepy for Social Media Analytics"
      ]
    },
    {
      "cell_type": "markdown",
      "metadata": {
        "id": "pU-8B9_3OhwE",
        "colab_type": "text"
      },
      "source": [
        "###by Gebremedhin Melaku"
      ]
    },
    {
      "cell_type": "markdown",
      "metadata": {
        "id": "_vkNR5lhOhwE",
        "colab_type": "text"
      },
      "source": [
        "In this project we will be utilizing tweepy for analytics. We will intend to analyze tweets related to US 2020 elections."
      ]
    },
    {
      "cell_type": "markdown",
      "metadata": {
        "id": "vRdXe_TjOhwF",
        "colab_type": "text"
      },
      "source": [
        "###1. Install libraries, import packages"
      ]
    },
    {
      "cell_type": "markdown",
      "metadata": {
        "id": "X_hyXOaYOhwF",
        "colab_type": "text"
      },
      "source": [
        "Tweepy needs to be installed into the notebook before we import libraries and objects associated with it. We will use !pip install to install tweepy. We will then import objects necessary for authenticating APIs, streaming, analyzing and visualizing tweets"
      ]
    },
    {
      "cell_type": "code",
      "metadata": {
        "id": "RWXKQKkpOhwG",
        "colab_type": "code",
        "colab": {},
        "outputId": "c1cd5075-d43f-4a28-c3f9-2c4f7952399a"
      },
      "source": [
        "!pip install tweepy\n",
        "import tweepy\n",
        "from tweepy.streaming import StreamListener\n",
        "from tweepy import OAuthHandler\n",
        "from tweepy import Stream"
      ],
      "execution_count": 0,
      "outputs": [
        {
          "output_type": "display_data",
          "data": {
            "text/html": [
              "<style scoped>\n",
              "  .ansiout {\n",
              "    display: block;\n",
              "    unicode-bidi: embed;\n",
              "    white-space: pre-wrap;\n",
              "    word-wrap: break-word;\n",
              "    word-break: break-all;\n",
              "    font-family: \"Source Code Pro\", \"Menlo\", monospace;;\n",
              "    font-size: 13px;\n",
              "    color: #555;\n",
              "    margin-left: 4px;\n",
              "    line-height: 19px;\n",
              "  }\n",
              "</style>\n",
              "<div class=\"ansiout\"></div>"
            ]
          },
          "metadata": {
            "tags": []
          }
        }
      ]
    },
    {
      "cell_type": "markdown",
      "metadata": {
        "id": "Nnj1yqIbOhwK",
        "colab_type": "text"
      },
      "source": [
        "### 2. Authenticate our APIs"
      ]
    },
    {
      "cell_type": "markdown",
      "metadata": {
        "id": "SkvvkwvhOhwK",
        "colab_type": "text"
      },
      "source": [
        "From our twitter app created from our developer twitter account, fetch the Consumer keys, consumer secrets, Access token and access token secrets."
      ]
    },
    {
      "cell_type": "code",
      "metadata": {
        "id": "_BxRAU-AOhwL",
        "colab_type": "code",
        "colab": {},
        "outputId": "6584ef4e-c12b-42e2-fb1b-bccafff3d49f"
      },
      "source": [
        "CONSUMER_KEY = \"WlPt2p3U5gXb9jAeipEhaec7p\"\n",
        "CONSUMER_SECRET = \"Z5ij8szjP399I1RrY6DJIGQ6nK63u7XJioI1osgECc3InsSQ6G\"\n",
        "ACCESS_TOKEN = \"762379377858453504-Psv8LQRbN3ID2IQYCq6Pn29xPnDOCjI\"\n",
        "ACCESS_TOKEN_SECRET = \"7mXxiVv7Ohx6vVgFmr77pBNODDoJW5LgDQ9GhrE2IE2FA\""
      ],
      "execution_count": 0,
      "outputs": [
        {
          "output_type": "display_data",
          "data": {
            "text/html": [
              "<style scoped>\n",
              "  .ansiout {\n",
              "    display: block;\n",
              "    unicode-bidi: embed;\n",
              "    white-space: pre-wrap;\n",
              "    word-wrap: break-word;\n",
              "    word-break: break-all;\n",
              "    font-family: \"Source Code Pro\", \"Menlo\", monospace;;\n",
              "    font-size: 13px;\n",
              "    color: #555;\n",
              "    margin-left: 4px;\n",
              "    line-height: 19px;\n",
              "  }\n",
              "</style>\n",
              "<div class=\"ansiout\"></div>"
            ]
          },
          "metadata": {
            "tags": []
          }
        }
      ]
    },
    {
      "cell_type": "markdown",
      "metadata": {
        "id": "30oVsrNCOhwN",
        "colab_type": "text"
      },
      "source": [
        "We will then finalize the authentication process using OAuthHandler()"
      ]
    },
    {
      "cell_type": "code",
      "metadata": {
        "id": "0R4Ym0w2OhwO",
        "colab_type": "code",
        "colab": {},
        "outputId": "7a34dfd9-e599-4220-df9d-508e8d0d134d"
      },
      "source": [
        "auth = tweepy.OAuthHandler(CONSUMER_KEY, CONSUMER_SECRET)\n",
        "auth.set_access_token(ACCESS_TOKEN, ACCESS_TOKEN_SECRET)\n",
        "api = tweepy.API(auth)\n"
      ],
      "execution_count": 0,
      "outputs": [
        {
          "output_type": "display_data",
          "data": {
            "text/html": [
              "<style scoped>\n",
              "  .ansiout {\n",
              "    display: block;\n",
              "    unicode-bidi: embed;\n",
              "    white-space: pre-wrap;\n",
              "    word-wrap: break-word;\n",
              "    word-break: break-all;\n",
              "    font-family: \"Source Code Pro\", \"Menlo\", monospace;;\n",
              "    font-size: 13px;\n",
              "    color: #555;\n",
              "    margin-left: 4px;\n",
              "    line-height: 19px;\n",
              "  }\n",
              "</style>\n",
              "<div class=\"ansiout\"></div>"
            ]
          },
          "metadata": {
            "tags": []
          }
        }
      ]
    },
    {
      "cell_type": "markdown",
      "metadata": {
        "id": "xGKwSrJCOhwQ",
        "colab_type": "text"
      },
      "source": [
        "### 3. Twitter Streaming"
      ]
    },
    {
      "cell_type": "markdown",
      "metadata": {
        "id": "G9bYUuJsOhwQ",
        "colab_type": "text"
      },
      "source": [
        "Once the authentication is done we will override tweepy.StreamListener to add logic to on_status"
      ]
    },
    {
      "cell_type": "code",
      "metadata": {
        "id": "lntDHUz6OhwR",
        "colab_type": "code",
        "colab": {},
        "outputId": "d5934182-a4ab-465d-eb01-f2f9e3c718c6"
      },
      "source": [
        "class MyStreamListener(tweepy.StreamListener):\n",
        "\n",
        "    def on_status(self, status):\n",
        "        print(status.text)\n",
        "        \n",
        "myStreamListener = MyStreamListener()\n",
        "myStream = tweepy.Stream(auth = api.auth, listener=myStreamListener)"
      ],
      "execution_count": 0,
      "outputs": [
        {
          "output_type": "display_data",
          "data": {
            "text/html": [
              "<style scoped>\n",
              "  .ansiout {\n",
              "    display: block;\n",
              "    unicode-bidi: embed;\n",
              "    white-space: pre-wrap;\n",
              "    word-wrap: break-word;\n",
              "    word-break: break-all;\n",
              "    font-family: \"Source Code Pro\", \"Menlo\", monospace;;\n",
              "    font-size: 13px;\n",
              "    color: #555;\n",
              "    margin-left: 4px;\n",
              "    line-height: 19px;\n",
              "  }\n",
              "</style>\n",
              "<div class=\"ansiout\"></div>"
            ]
          },
          "metadata": {
            "tags": []
          }
        }
      ]
    },
    {
      "cell_type": "markdown",
      "metadata": {
        "id": "csIugJsqOhwT",
        "colab_type": "text"
      },
      "source": [
        "The filter function will streamline our streaming API to tweets, users and entities of interest. In our cases, it will be Donald Trump, Joe Biden and Election 2020"
      ]
    },
    {
      "cell_type": "code",
      "metadata": {
        "id": "ZLqB4xooOhwU",
        "colab_type": "code",
        "colab": {},
        "outputId": "856fb659-82e0-49d9-ee9c-4c94bc2799a0"
      },
      "source": [
        "myStream.filter(track=['realDonaldTrump','JoeBiden'])"
      ],
      "execution_count": 0,
      "outputs": [
        {
          "output_type": "display_data",
          "data": {
            "text/html": [
              "<style scoped>\n",
              "  .ansiout {\n",
              "    display: block;\n",
              "    unicode-bidi: embed;\n",
              "    white-space: pre-wrap;\n",
              "    word-wrap: break-word;\n",
              "    word-break: break-all;\n",
              "    font-family: \"Source Code Pro\", \"Menlo\", monospace;;\n",
              "    font-size: 13px;\n",
              "    color: #555;\n",
              "    margin-left: 4px;\n",
              "    line-height: 19px;\n",
              "  }\n",
              "</style>\n",
              "<div class=\"ansiout\"><span class=\"ansi-red-fg\">---------------------------------------------------------------------------</span>\n",
              "<span class=\"ansi-red-fg\">TweepError</span>                                Traceback (most recent call last)\n",
              "<span class=\"ansi-green-fg\">&lt;command-3788231300719478&gt;</span> in <span class=\"ansi-cyan-fg\">&lt;module&gt;</span>\n",
              "<span class=\"ansi-green-fg\">----&gt; 1</span><span class=\"ansi-red-fg\"> </span>myStream<span class=\"ansi-blue-fg\">.</span>filter<span class=\"ansi-blue-fg\">(</span>track<span class=\"ansi-blue-fg\">=</span><span class=\"ansi-blue-fg\">[</span><span class=\"ansi-blue-fg\">&#39;realDonaldTrump&#39;</span><span class=\"ansi-blue-fg\">,</span><span class=\"ansi-blue-fg\">&#39;VP44&#39;</span><span class=\"ansi-blue-fg\">]</span><span class=\"ansi-blue-fg\">)</span>\n",
              "\n",
              "<span class=\"ansi-green-fg\">/databricks/python/lib/python3.7/site-packages/tweepy/streaming.py</span> in <span class=\"ansi-cyan-fg\">filter</span><span class=\"ansi-blue-fg\">(self, follow, track, is_async, locations, stall_warnings, languages, encoding, filter_level)</span>\n",
              "<span class=\"ansi-green-intense-fg ansi-bold\">    454</span>         self<span class=\"ansi-blue-fg\">.</span>session<span class=\"ansi-blue-fg\">.</span>headers<span class=\"ansi-blue-fg\">[</span><span class=\"ansi-blue-fg\">&#39;Content-type&#39;</span><span class=\"ansi-blue-fg\">]</span> <span class=\"ansi-blue-fg\">=</span> <span class=\"ansi-blue-fg\">&#34;application/x-www-form-urlencoded&#34;</span>\n",
              "<span class=\"ansi-green-intense-fg ansi-bold\">    455</span>         <span class=\"ansi-green-fg\">if</span> self<span class=\"ansi-blue-fg\">.</span>running<span class=\"ansi-blue-fg\">:</span>\n",
              "<span class=\"ansi-green-fg\">--&gt; 456</span><span class=\"ansi-red-fg\">             </span><span class=\"ansi-green-fg\">raise</span> TweepError<span class=\"ansi-blue-fg\">(</span><span class=\"ansi-blue-fg\">&#39;Stream object already connected!&#39;</span><span class=\"ansi-blue-fg\">)</span>\n",
              "<span class=\"ansi-green-intense-fg ansi-bold\">    457</span>         self<span class=\"ansi-blue-fg\">.</span>url <span class=\"ansi-blue-fg\">=</span> <span class=\"ansi-blue-fg\">&#39;/%s/statuses/filter.json&#39;</span> <span class=\"ansi-blue-fg\">%</span> STREAM_VERSION\n",
              "<span class=\"ansi-green-intense-fg ansi-bold\">    458</span>         <span class=\"ansi-green-fg\">if</span> follow<span class=\"ansi-blue-fg\">:</span>\n",
              "\n",
              "<span class=\"ansi-red-fg\">TweepError</span>: Stream object already connected!</div>"
            ]
          },
          "metadata": {
            "tags": []
          }
        }
      ]
    },
    {
      "cell_type": "markdown",
      "metadata": {
        "id": "hlFWd93VOhwW",
        "colab_type": "text"
      },
      "source": [
        "### 4. Analyzing tweeter data"
      ]
    },
    {
      "cell_type": "markdown",
      "metadata": {
        "id": "zfu-His0OhwX",
        "colab_type": "text"
      },
      "source": [
        "As we can see from above, streaming tweets and twitter data of interest won't help us in decision making process unless we start analyzing and convert the twitter data into some format that will give some senses. We can analyze twitter data using TweetAnalyzer."
      ]
    },
    {
      "cell_type": "markdown",
      "metadata": {
        "id": "Q9_pUFpmOhwX",
        "colab_type": "text"
      },
      "source": [
        "##### 4.1 Import additional libraries used for analysis."
      ]
    },
    {
      "cell_type": "code",
      "metadata": {
        "id": "YuAJr84LOhwY",
        "colab_type": "code",
        "colab": {},
        "outputId": "74debb0b-7511-44ae-f607-641be4164a37"
      },
      "source": [
        "from tweepy import API \n",
        "from tweepy import Cursor\n",
        "import numpy as np\n",
        "import pandas as pd"
      ],
      "execution_count": 0,
      "outputs": [
        {
          "output_type": "display_data",
          "data": {
            "text/html": [
              "<style scoped>\n",
              "  .ansiout {\n",
              "    display: block;\n",
              "    unicode-bidi: embed;\n",
              "    white-space: pre-wrap;\n",
              "    word-wrap: break-word;\n",
              "    word-break: break-all;\n",
              "    font-family: \"Source Code Pro\", \"Menlo\", monospace;;\n",
              "    font-size: 13px;\n",
              "    color: #555;\n",
              "    margin-left: 4px;\n",
              "    line-height: 19px;\n",
              "  }\n",
              "</style>\n",
              "<div class=\"ansiout\"></div>"
            ]
          },
          "metadata": {
            "tags": []
          }
        }
      ]
    },
    {
      "cell_type": "markdown",
      "metadata": {
        "id": "sfH0H9T4Ohwa",
        "colab_type": "text"
      },
      "source": [
        "##### 4.2 Define Twitter Client"
      ]
    },
    {
      "cell_type": "markdown",
      "metadata": {
        "id": "BLvQFsJ3Ohwb",
        "colab_type": "text"
      },
      "source": [
        "We will define twitter client API, user time line tweets, friend's list and home time line tweets in this section"
      ]
    },
    {
      "cell_type": "code",
      "metadata": {
        "id": "gke1G5ttOhwb",
        "colab_type": "code",
        "colab": {},
        "outputId": "9f8263c8-249d-4906-d1df-167378ab8da2"
      },
      "source": [
        "class TwitterClient():\n",
        "    def __init__(self, twitter_user=None):\n",
        "        self.auth = TwitterAuthenticator().authenticate_twitter_app()\n",
        "        self.twitter_client = API(self.auth)\n",
        "\n",
        "        self.twitter_user = twitter_user\n",
        "\n",
        "    def get_twitter_client_api(self):\n",
        "        return self.twitter_client\n",
        "\n",
        "    def get_user_timeline_tweets(self, num_tweets):\n",
        "        tweets = []\n",
        "        for tweet in Cursor(self.twitter_client.user_timeline, id=self.twitter_user).items(num_tweets):\n",
        "            tweets.append(tweet)\n",
        "        return tweets\n",
        "\n",
        "    def get_friend_list(self, num_friends):\n",
        "        friend_list = []\n",
        "        for friend in Cursor(self.twitter_client.friends, id=self.twitter_user).items(num_friends):\n",
        "            friend_list.append(friend)\n",
        "        return friend_list\n",
        "    def get_home_timeline_tweets(self, num_tweets):\n",
        "      home_timeline_tweets = []\n",
        "      for tweet in Cursor(self.twitter_client.home_timeline, id=self.twitter_user).items(num_tweets):\n",
        "        home_timeline_tweets.append(tweet)\n",
        "      return home_timeline_tweets\n",
        "    \n",
        "class TwitterAuthenticator():\n",
        "\n",
        "    def authenticate_twitter_app(self):\n",
        "        auth = OAuthHandler(CONSUMER_KEY, CONSUMER_SECRET)\n",
        "        auth.set_access_token(ACCESS_TOKEN, ACCESS_TOKEN_SECRET)\n",
        "        return auth"
      ],
      "execution_count": 0,
      "outputs": [
        {
          "output_type": "display_data",
          "data": {
            "text/html": [
              "<style scoped>\n",
              "  .ansiout {\n",
              "    display: block;\n",
              "    unicode-bidi: embed;\n",
              "    white-space: pre-wrap;\n",
              "    word-wrap: break-word;\n",
              "    word-break: break-all;\n",
              "    font-family: \"Source Code Pro\", \"Menlo\", monospace;;\n",
              "    font-size: 13px;\n",
              "    color: #555;\n",
              "    margin-left: 4px;\n",
              "    line-height: 19px;\n",
              "  }\n",
              "</style>\n",
              "<div class=\"ansiout\"></div>"
            ]
          },
          "metadata": {
            "tags": []
          }
        }
      ]
    },
    {
      "cell_type": "markdown",
      "metadata": {
        "id": "Q1ZoTM8dOhwd",
        "colab_type": "text"
      },
      "source": [
        "##### 4.3 Tweeter steam listener"
      ]
    },
    {
      "cell_type": "markdown",
      "metadata": {
        "id": "PEaDrLalOhwe",
        "colab_type": "text"
      },
      "source": [
        "The basic listener prints received tweets to Stdout. In this step, we will also define on_data (to return an output in cases of availability) and on_error (prints out an error message if the requested data is not available)"
      ]
    },
    {
      "cell_type": "code",
      "metadata": {
        "id": "1DDWLjCvOhwe",
        "colab_type": "code",
        "colab": {},
        "outputId": "9d69d13e-5114-4843-daac-110fa0af14ff"
      },
      "source": [
        "class TwitterListener(StreamListener):\n",
        "    def __init__(self, fetched_tweets_filename):\n",
        "        self.fetched_tweets_filename = fetched_tweets_filename\n",
        "\n",
        "    def on_data(self, data):\n",
        "        try:\n",
        "            print(data)\n",
        "            with open(self.fetched_tweets_filename, 'a') as tf:\n",
        "                tf.write(data)\n",
        "            return True\n",
        "        except BaseException as e:\n",
        "            print(\"Error on_data %s\" % str(e))\n",
        "        return True\n",
        "          \n",
        "    def on_error(self, status):\n",
        "        if status == 420:\n",
        "            return False\n",
        "        print(status)\n"
      ],
      "execution_count": 0,
      "outputs": [
        {
          "output_type": "display_data",
          "data": {
            "text/html": [
              "<style scoped>\n",
              "  .ansiout {\n",
              "    display: block;\n",
              "    unicode-bidi: embed;\n",
              "    white-space: pre-wrap;\n",
              "    word-wrap: break-word;\n",
              "    word-break: break-all;\n",
              "    font-family: \"Source Code Pro\", \"Menlo\", monospace;;\n",
              "    font-size: 13px;\n",
              "    color: #555;\n",
              "    margin-left: 4px;\n",
              "    line-height: 19px;\n",
              "  }\n",
              "</style>\n",
              "<div class=\"ansiout\"></div>"
            ]
          },
          "metadata": {
            "tags": []
          }
        }
      ]
    },
    {
      "cell_type": "markdown",
      "metadata": {
        "id": "2ryQ-cQeOhwh",
        "colab_type": "text"
      },
      "source": [
        "###### Introduce class TweetAnalyzer and define tweet data. \n",
        "\n",
        "The pandas and numpy libraries imported will add a fucntionality for analyzing and categorizing contents from tweets"
      ]
    },
    {
      "cell_type": "code",
      "metadata": {
        "id": "XuSDw_xuOhwh",
        "colab_type": "code",
        "colab": {},
        "outputId": "b5e10e0d-6aea-46a4-b62a-3ed95ddc71ed"
      },
      "source": [
        "class TweetAnalyzer():\n",
        "    def tweets_to_data_frame(self, tweets):\n",
        "        df = pd.DataFrame(data=[tweet.text for tweet in tweets], columns=['Tweets'])\n",
        "\n",
        "        df['id'] = np.array([tweet.id for tweet in tweets])\n",
        "        df['len'] = np.array([len(tweet.text) for tweet in tweets])\n",
        "        df['date'] = np.array([tweet.created_at for tweet in tweets])\n",
        "        df['source'] = np.array([tweet.source for tweet in tweets])\n",
        "        df['likes'] = np.array([tweet.favorite_count for tweet in tweets])\n",
        "        df['retweets'] = np.array([tweet.retweet_count for tweet in tweets])\n",
        "\n",
        "        return df"
      ],
      "execution_count": 0,
      "outputs": [
        {
          "output_type": "display_data",
          "data": {
            "text/html": [
              "<style scoped>\n",
              "  .ansiout {\n",
              "    display: block;\n",
              "    unicode-bidi: embed;\n",
              "    white-space: pre-wrap;\n",
              "    word-wrap: break-word;\n",
              "    word-break: break-all;\n",
              "    font-family: \"Source Code Pro\", \"Menlo\", monospace;;\n",
              "    font-size: 13px;\n",
              "    color: #555;\n",
              "    margin-left: 4px;\n",
              "    line-height: 19px;\n",
              "  }\n",
              "</style>\n",
              "<div class=\"ansiout\"></div>"
            ]
          },
          "metadata": {
            "tags": []
          }
        }
      ]
    },
    {
      "cell_type": "markdown",
      "metadata": {
        "id": "lYpe8SyPOhwl",
        "colab_type": "text"
      },
      "source": [
        "##### 4.4 Twitter Client Analysis"
      ]
    },
    {
      "cell_type": "markdown",
      "metadata": {
        "id": "TJWcbNHxOhwl",
        "colab_type": "text"
      },
      "source": [
        "Now let's see the results from analysis from twitter data using a specific twitter client. In our case \"realDonaldTrump\" and \"JoeBiden\". We will compare the 10 most recent tweets by the two candicates by calling .head(10) functions from the last 200 tweets. We will also compare the number of retweets from the 50th tweets."
      ]
    },
    {
      "cell_type": "code",
      "metadata": {
        "id": "85Qgbax0Ohwm",
        "colab_type": "code",
        "colab": {},
        "outputId": "fd29e096-c130-4c63-83c0-f7e3b7600c9d"
      },
      "source": [
        "from operator import methodcaller\n",
        "if __name__ == '__main__':\n",
        "\n",
        "    twitter_client = TwitterClient()\n",
        "    tweet_analyzer = TweetAnalyzer()\n",
        "\n",
        "    api = twitter_client.get_twitter_client_api()\n",
        "\n",
        "    tweets = api.user_timeline(screen_name=\"realDonaldTrump\", count=200)\n",
        "\n",
        "    print(tweets[50].retweet_count)\n",
        "\n",
        "    df = tweet_analyzer.tweets_to_data_frame(tweets)\n",
        "    \n",
        "    print(df.head(10))"
      ],
      "execution_count": 0,
      "outputs": [
        {
          "output_type": "display_data",
          "data": {
            "text/html": [
              "<style scoped>\n",
              "  .ansiout {\n",
              "    display: block;\n",
              "    unicode-bidi: embed;\n",
              "    white-space: pre-wrap;\n",
              "    word-wrap: break-word;\n",
              "    word-break: break-all;\n",
              "    font-family: \"Source Code Pro\", \"Menlo\", monospace;;\n",
              "    font-size: 13px;\n",
              "    color: #555;\n",
              "    margin-left: 4px;\n",
              "    line-height: 19px;\n",
              "  }\n",
              "</style>\n",
              "<div class=\"ansiout\">14443\n",
              "                                              Tweets  ...  retweets\n",
              "0  Such a wonderful reception yesterday in Pennsy...  ...      6857\n",
              "1  I am proud to announce that the United States ...  ...     15744\n",
              "2  Today I was presented with the brand new @Spac...  ...      7403\n",
              "3  RT @WhiteHouse: Recent data &#34;made me feel even...  ...      2122\n",
              "4  RT @WhiteHouse: Operation Warp Speed is &#34;a mas...  ...      2858\n",
              "5  RT @WhiteHouse: LIVE: POTUS Delivers Remarks o...  ...      4529\n",
              "6  Chicago’s @CTA has big federal resources headi...  ...      9586\n",
              "7  I am proud to announce that @NJTransit will re...  ...      9525\n",
              "8  ....Likewise, the @nytimes and @washingtonpost...  ...     17830\n",
              "9  Thank you to @foxandfriends for covering, supr...  ...     28214\n",
              "\n",
              "[10 rows x 7 columns]\n",
              "</div>"
            ]
          },
          "metadata": {
            "tags": []
          }
        }
      ]
    },
    {
      "cell_type": "code",
      "metadata": {
        "id": "Qfhc6KEBOhwo",
        "colab_type": "code",
        "colab": {},
        "outputId": "bb16698b-374e-4dc9-864d-084d448b802c"
      },
      "source": [
        "if __name__ == '__main__':\n",
        "\n",
        "    twitter_client = TwitterClient()\n",
        "    tweet_analyzer = TweetAnalyzer()\n",
        "\n",
        "    api = twitter_client.get_twitter_client_api()\n",
        "\n",
        "    tweets = api.user_timeline(screen_name=\"JoeBiden\", count=200)\n",
        "\n",
        "    print(tweets[50].retweet_count)\n",
        "\n",
        "    df = tweet_analyzer.tweets_to_data_frame(tweets)\n",
        "    \n",
        "    print(df.head(10))"
      ],
      "execution_count": 0,
      "outputs": [
        {
          "output_type": "display_data",
          "data": {
            "text/html": [
              "<style scoped>\n",
              "  .ansiout {\n",
              "    display: block;\n",
              "    unicode-bidi: embed;\n",
              "    white-space: pre-wrap;\n",
              "    word-wrap: break-word;\n",
              "    word-break: break-all;\n",
              "    font-family: \"Source Code Pro\", \"Menlo\", monospace;;\n",
              "    font-size: 13px;\n",
              "    color: #555;\n",
              "    margin-left: 4px;\n",
              "    line-height: 19px;\n",
              "  }\n",
              "</style>\n",
              "<div class=\"ansiout\">9241\n",
              "                                              Tweets  ...  retweets\n",
              "0  If you’re looking for ways to show off your su...  ...      1081\n",
              "1  We have the power to create the future we want...  ...      5541\n",
              "2  To all of our front line workers who are worki...  ...      7049\n",
              "3  We are months into this crisis. There is simpl...  ...     18525\n",
              "4  Tonight, @StaceyAbrams and I will be joining @...  ...      2523\n",
              "5              What he said. https://t.co/qfK5oHyFba  ...     32344\n",
              "6  Donald Trump can deflect and shift blame all h...  ...     12956\n",
              "7  Sherian, a small business owner from South Car...  ...      1396\n",
              "8  The lives of tens of millions of Americans hav...  ...      5018\n",
              "9  Join me for a virtual roundtable on COVID-19 w...  ...      1911\n",
              "\n",
              "[10 rows x 7 columns]\n",
              "</div>"
            ]
          },
          "metadata": {
            "tags": []
          }
        }
      ]
    },
    {
      "cell_type": "markdown",
      "metadata": {
        "id": "VlWBfUg2Ohwq",
        "colab_type": "text"
      },
      "source": [
        "#### 5. Visualizing Twitter Data between the two candidates."
      ]
    },
    {
      "cell_type": "markdown",
      "metadata": {
        "id": "YoZGsSukOhwr",
        "colab_type": "text"
      },
      "source": [
        "We will now us visualization technique to compare between this two candidates on how are they doing based on likes and retweets over time."
      ]
    },
    {
      "cell_type": "markdown",
      "metadata": {
        "id": "6MmmnI9oOhwr",
        "colab_type": "text"
      },
      "source": [
        "#####5.1 import visualization libraries"
      ]
    },
    {
      "cell_type": "code",
      "metadata": {
        "id": "m-U7mzOGOhwr",
        "colab_type": "code",
        "colab": {},
        "outputId": "4a3e8b91-7a85-4293-fe6c-979db6290c74"
      },
      "source": [
        "import matplotlib.pyplot as plt"
      ],
      "execution_count": 0,
      "outputs": [
        {
          "output_type": "display_data",
          "data": {
            "text/html": [
              "<style scoped>\n",
              "  .ansiout {\n",
              "    display: block;\n",
              "    unicode-bidi: embed;\n",
              "    white-space: pre-wrap;\n",
              "    word-wrap: break-word;\n",
              "    word-break: break-all;\n",
              "    font-family: \"Source Code Pro\", \"Menlo\", monospace;;\n",
              "    font-size: 13px;\n",
              "    color: #555;\n",
              "    margin-left: 4px;\n",
              "    line-height: 19px;\n",
              "  }\n",
              "</style>\n",
              "<div class=\"ansiout\"></div>"
            ]
          },
          "metadata": {
            "tags": []
          }
        }
      ]
    },
    {
      "cell_type": "markdown",
      "metadata": {
        "id": "bnmzLr4pOhwu",
        "colab_type": "text"
      },
      "source": [
        "###### Visualizing Donald Trumps tweets"
      ]
    },
    {
      "cell_type": "markdown",
      "metadata": {
        "id": "z2C4yZ6SOhwu",
        "colab_type": "text"
      },
      "source": [
        "Set up the client"
      ]
    },
    {
      "cell_type": "code",
      "metadata": {
        "id": "AFzLpNHpOhwv",
        "colab_type": "code",
        "colab": {},
        "outputId": "b5233e3b-2ca5-4354-c492-2f297befff68"
      },
      "source": [
        "if __name__ == '__main__':\n",
        "\n",
        "    twitter_client = TwitterClient()\n",
        "    tweet_analyzer = TweetAnalyzer()\n",
        "    api = tweepy.API(auth)\n",
        "\n",
        "    api = twitter_client.get_twitter_client_api()\n",
        "\n",
        "    tweets = api.user_timeline(screen_name=\"realDonaldTrump\", count=50)\n",
        "\n",
        "    df = tweet_analyzer.tweets_to_data_frame(tweets)\n"
      ],
      "execution_count": 0,
      "outputs": [
        {
          "output_type": "display_data",
          "data": {
            "text/html": [
              "<style scoped>\n",
              "  .ansiout {\n",
              "    display: block;\n",
              "    unicode-bidi: embed;\n",
              "    white-space: pre-wrap;\n",
              "    word-wrap: break-word;\n",
              "    word-break: break-all;\n",
              "    font-family: \"Source Code Pro\", \"Menlo\", monospace;;\n",
              "    font-size: 13px;\n",
              "    color: #555;\n",
              "    margin-left: 4px;\n",
              "    line-height: 19px;\n",
              "  }\n",
              "</style>\n",
              "<div class=\"ansiout\"></div>"
            ]
          },
          "metadata": {
            "tags": []
          }
        }
      ]
    },
    {
      "cell_type": "markdown",
      "metadata": {
        "id": "gUzViXm7Ohwx",
        "colab_type": "text"
      },
      "source": [
        "##### Summary statistics"
      ]
    },
    {
      "cell_type": "markdown",
      "metadata": {
        "id": "gJyjPsUEOhwx",
        "colab_type": "text"
      },
      "source": [
        "get the average length of overall tweets for Donal Drump"
      ]
    },
    {
      "cell_type": "code",
      "metadata": {
        "id": "5DN5z4waOhwy",
        "colab_type": "code",
        "colab": {},
        "outputId": "e31f945e-de3e-4c9f-c647-338e13ddcc6c"
      },
      "source": [
        "print(np.mean(df['len']))\n"
      ],
      "execution_count": 0,
      "outputs": [
        {
          "output_type": "display_data",
          "data": {
            "text/html": [
              "<style scoped>\n",
              "  .ansiout {\n",
              "    display: block;\n",
              "    unicode-bidi: embed;\n",
              "    white-space: pre-wrap;\n",
              "    word-wrap: break-word;\n",
              "    word-break: break-all;\n",
              "    font-family: \"Source Code Pro\", \"Menlo\", monospace;;\n",
              "    font-size: 13px;\n",
              "    color: #555;\n",
              "    margin-left: 4px;\n",
              "    line-height: 19px;\n",
              "  }\n",
              "</style>\n",
              "<div class=\"ansiout\">107.98\n",
              "</div>"
            ]
          },
          "metadata": {
            "tags": []
          }
        }
      ]
    },
    {
      "cell_type": "markdown",
      "metadata": {
        "id": "ZcTYziwKOhw0",
        "colab_type": "text"
      },
      "source": [
        "Get the number of likes for the most liked tweet"
      ]
    },
    {
      "cell_type": "code",
      "metadata": {
        "id": "9HrtbNc6Ohw0",
        "colab_type": "code",
        "colab": {},
        "outputId": "8e3fccbb-50f6-42bf-d7b5-d440be0bfb94"
      },
      "source": [
        "print(np.max(df['likes']))"
      ],
      "execution_count": 0,
      "outputs": [
        {
          "output_type": "display_data",
          "data": {
            "text/html": [
              "<style scoped>\n",
              "  .ansiout {\n",
              "    display: block;\n",
              "    unicode-bidi: embed;\n",
              "    white-space: pre-wrap;\n",
              "    word-wrap: break-word;\n",
              "    word-break: break-all;\n",
              "    font-family: \"Source Code Pro\", \"Menlo\", monospace;;\n",
              "    font-size: 13px;\n",
              "    color: #555;\n",
              "    margin-left: 4px;\n",
              "    line-height: 19px;\n",
              "  }\n",
              "</style>\n",
              "<div class=\"ansiout\">245122\n",
              "</div>"
            ]
          },
          "metadata": {
            "tags": []
          }
        }
      ]
    },
    {
      "cell_type": "markdown",
      "metadata": {
        "id": "1d_11p8NOhw2",
        "colab_type": "text"
      },
      "source": [
        "Get the number of retweets for the most retweeted tweet:"
      ]
    },
    {
      "cell_type": "code",
      "metadata": {
        "id": "m-PDLVzhOhw2",
        "colab_type": "code",
        "colab": {},
        "outputId": "0fd4d329-4356-4723-de53-292365543f22"
      },
      "source": [
        "print(np.max(df['retweets']))"
      ],
      "execution_count": 0,
      "outputs": [
        {
          "output_type": "display_data",
          "data": {
            "text/html": [
              "<style scoped>\n",
              "  .ansiout {\n",
              "    display: block;\n",
              "    unicode-bidi: embed;\n",
              "    white-space: pre-wrap;\n",
              "    word-wrap: break-word;\n",
              "    word-break: break-all;\n",
              "    font-family: \"Source Code Pro\", \"Menlo\", monospace;;\n",
              "    font-size: 13px;\n",
              "    color: #555;\n",
              "    margin-left: 4px;\n",
              "    line-height: 19px;\n",
              "  }\n",
              "</style>\n",
              "<div class=\"ansiout\">98855\n",
              "</div>"
            ]
          },
          "metadata": {
            "tags": []
          }
        }
      ]
    },
    {
      "cell_type": "markdown",
      "metadata": {
        "id": "jd5H-Z5BOhw4",
        "colab_type": "text"
      },
      "source": [
        "#### Plots"
      ]
    },
    {
      "cell_type": "markdown",
      "metadata": {
        "id": "SHetCeeWOhw4",
        "colab_type": "text"
      },
      "source": [
        "Let's plot the number of likes and retweets against the time for the given period of time"
      ]
    },
    {
      "cell_type": "code",
      "metadata": {
        "id": "B4VlgFKbOhw5",
        "colab_type": "code",
        "colab": {}
      },
      "source": [
        "time_likes = pd.Series(data=df['likes'].values, index=df['date'])\n",
        "time_likes.plot(figsize=(16, 4), label=\"likes\", legend=True)\n",
        "time_retweets = pd.Series(data=df['retweets'].values, index=df['date'])\n",
        "time_retweets.plot(figsize=(16, 4), label=\"retweets\", legend=True)\n",
        "plt.show()"
      ],
      "execution_count": 0,
      "outputs": []
    },
    {
      "cell_type": "markdown",
      "metadata": {
        "id": "O58e_EfaOhw7",
        "colab_type": "text"
      },
      "source": [
        "#####Visualizing Joe Biden's Tweet"
      ]
    },
    {
      "cell_type": "code",
      "metadata": {
        "id": "UULQdoUgOhw7",
        "colab_type": "code",
        "colab": {},
        "outputId": "57325cb7-5a3c-452e-d994-03ebdf0e21fd"
      },
      "source": [
        "if __name__ == '__main__':\n",
        "\n",
        "    twitter_client = TwitterClient()\n",
        "    tweet_analyzer = TweetAnalyzer()\n",
        "    api = tweepy.API(auth)\n",
        "\n",
        "    api = twitter_client.get_twitter_client_api()\n",
        "\n",
        "    tweets = api.user_timeline(screen_name=\"JoeBiden\", count=50)\n",
        "\n",
        "    df = tweet_analyzer.tweets_to_data_frame(tweets)"
      ],
      "execution_count": 0,
      "outputs": [
        {
          "output_type": "display_data",
          "data": {
            "text/html": [
              "<style scoped>\n",
              "  .ansiout {\n",
              "    display: block;\n",
              "    unicode-bidi: embed;\n",
              "    white-space: pre-wrap;\n",
              "    word-wrap: break-word;\n",
              "    word-break: break-all;\n",
              "    font-family: \"Source Code Pro\", \"Menlo\", monospace;;\n",
              "    font-size: 13px;\n",
              "    color: #555;\n",
              "    margin-left: 4px;\n",
              "    line-height: 19px;\n",
              "  }\n",
              "</style>\n",
              "<div class=\"ansiout\"></div>"
            ]
          },
          "metadata": {
            "tags": []
          }
        }
      ]
    },
    {
      "cell_type": "markdown",
      "metadata": {
        "id": "4j7izLvcOhw-",
        "colab_type": "text"
      },
      "source": [
        "#####Summary statistics"
      ]
    },
    {
      "cell_type": "code",
      "metadata": {
        "id": "yaC_43BOOhw-",
        "colab_type": "code",
        "colab": {},
        "outputId": "bd898a2b-2039-4417-90f4-8379efee3ed3"
      },
      "source": [
        "print(np.mean(df['len']))"
      ],
      "execution_count": 0,
      "outputs": [
        {
          "output_type": "display_data",
          "data": {
            "text/html": [
              "<style scoped>\n",
              "  .ansiout {\n",
              "    display: block;\n",
              "    unicode-bidi: embed;\n",
              "    white-space: pre-wrap;\n",
              "    word-wrap: break-word;\n",
              "    word-break: break-all;\n",
              "    font-family: \"Source Code Pro\", \"Menlo\", monospace;;\n",
              "    font-size: 13px;\n",
              "    color: #555;\n",
              "    margin-left: 4px;\n",
              "    line-height: 19px;\n",
              "  }\n",
              "</style>\n",
              "<div class=\"ansiout\">131.82\n",
              "</div>"
            ]
          },
          "metadata": {
            "tags": []
          }
        }
      ]
    },
    {
      "cell_type": "code",
      "metadata": {
        "id": "spJsOlB3OhxA",
        "colab_type": "code",
        "colab": {},
        "outputId": "bd268d2f-b4db-47aa-8be4-0d2749cf3ad8"
      },
      "source": [
        "print(np.max(df['likes']))"
      ],
      "execution_count": 0,
      "outputs": [
        {
          "output_type": "display_data",
          "data": {
            "text/html": [
              "<style scoped>\n",
              "  .ansiout {\n",
              "    display: block;\n",
              "    unicode-bidi: embed;\n",
              "    white-space: pre-wrap;\n",
              "    word-wrap: break-word;\n",
              "    word-break: break-all;\n",
              "    font-family: \"Source Code Pro\", \"Menlo\", monospace;;\n",
              "    font-size: 13px;\n",
              "    color: #555;\n",
              "    margin-left: 4px;\n",
              "    line-height: 19px;\n",
              "  }\n",
              "</style>\n",
              "<div class=\"ansiout\">198230\n",
              "</div>"
            ]
          },
          "metadata": {
            "tags": []
          }
        }
      ]
    },
    {
      "cell_type": "code",
      "metadata": {
        "id": "whsWXwfnOhxC",
        "colab_type": "code",
        "colab": {},
        "outputId": "f5bb6d5c-fa44-4277-9f9f-d6ff9ce38c6a"
      },
      "source": [
        "print(np.max(df['retweets']))"
      ],
      "execution_count": 0,
      "outputs": [
        {
          "output_type": "display_data",
          "data": {
            "text/html": [
              "<style scoped>\n",
              "  .ansiout {\n",
              "    display: block;\n",
              "    unicode-bidi: embed;\n",
              "    white-space: pre-wrap;\n",
              "    word-wrap: break-word;\n",
              "    word-break: break-all;\n",
              "    font-family: \"Source Code Pro\", \"Menlo\", monospace;;\n",
              "    font-size: 13px;\n",
              "    color: #555;\n",
              "    margin-left: 4px;\n",
              "    line-height: 19px;\n",
              "  }\n",
              "</style>\n",
              "<div class=\"ansiout\">40204\n",
              "</div>"
            ]
          },
          "metadata": {
            "tags": []
          }
        }
      ]
    },
    {
      "cell_type": "markdown",
      "metadata": {
        "id": "U1qqMb7EOhxE",
        "colab_type": "text"
      },
      "source": [
        "######Plots"
      ]
    },
    {
      "cell_type": "markdown",
      "metadata": {
        "id": "k7pJvGrxOhxE",
        "colab_type": "text"
      },
      "source": [
        "Let's plot the number of likes and retweets against the time for the given period of time"
      ]
    },
    {
      "cell_type": "code",
      "metadata": {
        "id": "-Out3DMzOhxE",
        "colab_type": "code",
        "colab": {}
      },
      "source": [
        "time_likes = pd.Series(data=df['likes'].values, index=df['date'])\n",
        "time_likes.plot(figsize=(16, 4), label=\"likes\", legend=True)\n",
        "time_retweets = pd.Series(data=df['retweets'].values, index=df['date'])\n",
        "time_retweets.plot(figsize=(16, 4), label=\"retweets\", legend=True)\n",
        "plt.show()"
      ],
      "execution_count": 0,
      "outputs": []
    }
  ]
}