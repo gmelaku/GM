{
  "nbformat": 4,
  "nbformat_minor": 0,
  "metadata": {
    "colab": {
      "name": "Analyzing twitter data.ipynb",
      "provenance": [],
      "authorship_tag": "ABX9TyOZABe18kBM9by+SQCqW9fI",
      "include_colab_link": true
    },
    "kernelspec": {
      "name": "python3",
      "display_name": "Python 3"
    }
  },
  "cells": [
    {
      "cell_type": "markdown",
      "metadata": {
        "id": "view-in-github",
        "colab_type": "text"
      },
      "source": [
        "<a href=\"https://colab.research.google.com/github/gmelaku/GM/blob/master/Analyzing_twitter_data.ipynb\" target=\"_parent\"><img src=\"https://colab.research.google.com/assets/colab-badge.svg\" alt=\"Open In Colab\"/></a>"
      ]
    },
    {
      "cell_type": "code",
      "metadata": {
        "id": "7I4APo7AEu9O",
        "colab_type": "code",
        "colab": {}
      },
      "source": [
        "import tweepy\n",
        "from tweepy.streaming import StreamListener\n",
        "from tweepy import OAuthHandler\n",
        "from tweepy import Stream\n",
        "CONSUMER_KEY = \"WlPt2p3U5gXb9jAeipEhaec7p\"\n",
        "CONSUMER_SECRET = \"Z5ij8szjP399I1RrY6DJIGQ6nK63u7XJioI1osgECc3InsSQ6G\"\n",
        "ACCESS_TOKEN = \"762379377858453504-Psv8LQRbN3ID2IQYCq6Pn29xPnDOCjI\"\n",
        "ACCESS_TOKEN_SECRET = \"7mXxiVv7Ohx6vVgFmr77pBNODDoJW5LgDQ9GhrE2IE2FA\"\n",
        "\n"
      ],
      "execution_count": 0,
      "outputs": []
    },
    {
      "cell_type": "code",
      "metadata": {
        "id": "bX7tGD16Y-pJ",
        "colab_type": "code",
        "colab": {}
      },
      "source": [
        "auth = tweepy.OAuthHandler(CONSUMER_KEY, CONSUMER_SECRET)\n",
        "auth.set_access_token(ACCESS_TOKEN, ACCESS_TOKEN_SECRET)\n",
        "api = tweepy.API(auth)"
      ],
      "execution_count": 0,
      "outputs": []
    },
    {
      "cell_type": "code",
      "metadata": {
        "id": "hTRhm6FLZFYB",
        "colab_type": "code",
        "colab": {}
      },
      "source": [
        "import tweepy\n",
        "#override tweepy.StreamListener to add logic to on_status\n",
        "class MyStreamListener(tweepy.StreamListener):\n",
        "\n",
        "    def on_status(self, status):\n",
        "        print(status.text)"
      ],
      "execution_count": 0,
      "outputs": []
    },
    {
      "cell_type": "code",
      "metadata": {
        "id": "4nxgkDGmZOWi",
        "colab_type": "code",
        "colab": {}
      },
      "source": [
        "myStreamListener = MyStreamListener()\n",
        "myStream = tweepy.Stream(auth = api.auth, listener=myStreamListener)"
      ],
      "execution_count": 0,
      "outputs": []
    },
    {
      "cell_type": "code",
      "metadata": {
        "id": "9RKpKOeSZR1P",
        "colab_type": "code",
        "colab": {}
      },
      "source": [
        "myStream.filter(track=['Ethiopia'])"
      ],
      "execution_count": 0,
      "outputs": []
    },
    {
      "cell_type": "markdown",
      "metadata": {
        "id": "yuH90BfE-N4R",
        "colab_type": "text"
      },
      "source": [
        "##Analyzing twitter data"
      ]
    },
    {
      "cell_type": "code",
      "metadata": {
        "id": "oor1P2eh9aPV",
        "colab_type": "code",
        "colab": {}
      },
      "source": [
        "from tweepy import API \n",
        "from tweepy import Cursor\n",
        "from tweepy.streaming import StreamListener\n",
        "from tweepy import OAuthHandler\n",
        "from tweepy import Stream"
      ],
      "execution_count": 0,
      "outputs": []
    },
    {
      "cell_type": "code",
      "metadata": {
        "id": "1wHqPTepAjf_",
        "colab_type": "code",
        "colab": {}
      },
      "source": [
        "import numpy as np\n",
        "import pandas as pd"
      ],
      "execution_count": 0,
      "outputs": []
    },
    {
      "cell_type": "markdown",
      "metadata": {
        "id": "MpnCRi5mAww2",
        "colab_type": "text"
      },
      "source": [
        "# # # # TWITTER CLIENT # # # #"
      ]
    },
    {
      "cell_type": "code",
      "metadata": {
        "id": "nNiY1rbmApII",
        "colab_type": "code",
        "colab": {}
      },
      "source": [
        "class TwitterClient():\n",
        "    def __init__(self, twitter_user=None):\n",
        "        self.auth = TwitterAuthenticator().authenticate_twitter_app()\n",
        "        self.twitter_client = API(self.auth)\n",
        "\n",
        "        self.twitter_user = twitter_user\n",
        "\n",
        "    def get_twitter_client_api(self):\n",
        "        return self.twitter_client\n",
        "\n",
        "    def get_user_timeline_tweets(self, num_tweets):\n",
        "        tweets = []\n",
        "        for tweet in Cursor(self.twitter_client.user_timeline, id=self.twitter_user).items(num_tweets):\n",
        "            tweets.append(tweet)\n",
        "        return tweets\n",
        "\n",
        "    def get_friend_list(self, num_friends):\n",
        "        friend_list = []\n",
        "        for friend in Cursor(self.twitter_client.friends, id=self.twitter_user).items(num_friends):\n",
        "            friend_list.append(friend)\n",
        "        return friend_list\n",
        "    def get_home_timeline_tweets(self, num_tweets):\n",
        "      home_timeline_tweets = []\n",
        "      for tweet in Cursor(self.twitter_client.home_timeline, id=self.twitter_user).items(num_tweets):\n",
        "        home_timeline_tweets.append(tweet)\n",
        "      return home_timeline_tweets"
      ],
      "execution_count": 0,
      "outputs": []
    },
    {
      "cell_type": "code",
      "metadata": {
        "id": "WCvvbFKBBQzX",
        "colab_type": "code",
        "colab": {}
      },
      "source": [
        "class TwitterAuthenticator():\n",
        "\n",
        "    def authenticate_twitter_app(self):\n",
        "        auth = OAuthHandler(CONSUMER_KEY, CONSUMER_SECRET)\n",
        "        auth.set_access_token(ACCESS_TOKEN, ACCESS_TOKEN_SECRET)\n",
        "        return auth"
      ],
      "execution_count": 0,
      "outputs": []
    },
    {
      "cell_type": "markdown",
      "metadata": {
        "id": "VpRp1M5RBbDI",
        "colab_type": "text"
      },
      "source": [
        "Twitter Steamer"
      ]
    },
    {
      "cell_type": "code",
      "metadata": {
        "id": "GmmYIqarBcvr",
        "colab_type": "code",
        "colab": {}
      },
      "source": [
        "class TwitterStreamer():\n",
        "    \"\"\"\n",
        "    Class for streaming and processing live tweets.\n",
        "    \"\"\"\n",
        "    def __init__(self):\n",
        "        self.twitter_autenticator = TwitterAuthenticator()    \n",
        "\n",
        "    def stream_tweets(self, fetched_tweets_filename, hash_tag_list):\n",
        "        # This handles Twitter authetification and the connection to Twitter Streaming API\n",
        "        listener = TwitterListener(fetched_tweets_filename)\n",
        "        auth = self.twitter_autenticator.authenticate_twitter_app() \n",
        "        stream = Stream(auth, listener)\n",
        "\n",
        "        # This line filter Twitter Streams to capture data by the keywords: \n",
        "        stream.filter(track=hash_tag_list)"
      ],
      "execution_count": 0,
      "outputs": []
    },
    {
      "cell_type": "markdown",
      "metadata": {
        "id": "YMg8UsO2BqSu",
        "colab_type": "text"
      },
      "source": [
        "Twitter stream Listener"
      ]
    },
    {
      "cell_type": "code",
      "metadata": {
        "id": "mGunw7oEBtC4",
        "colab_type": "code",
        "colab": {
          "base_uri": "https://localhost:8080/",
          "height": 238
        },
        "outputId": "9dfec775-3678-4242-bc16-d0d2fde86ac2"
      },
      "source": [
        "class TwitterListener(StreamListener):\n",
        "    \"\"\"\n",
        "    This is a basic listener that just prints received tweets to stdout.\n",
        "    \"\"\"\n",
        "    def __init__(self, fetched_tweets_filename):\n",
        "        self.fetched_tweets_filename = fetched_tweets_filename\n",
        "\n",
        "    def on_data(self, data):\n",
        "        try:\n",
        "            print(data)\n",
        "            with open(self.fetched_tweets_filename, 'a') as tf:\n",
        "                tf.write(data)\n",
        "            return True\n",
        "        except BaseException as e:\n",
        "            print(\"Error on_data %s\" % str(e))\n",
        "        return True\n",
        "          \n",
        "    def on_error(self, status):\n",
        "        if status == 420:\n",
        "            # Returning False on_data method in case rate limit occurs.\n",
        "            return False\n",
        "        print(status)\n",
        "\n",
        "\n",
        "class TweetAnalyzer():\n",
        "    \"\"\"\n",
        "    Functionality for analyzing and categorizing content from tweets.\n",
        "    \"\"\"\n",
        "    def tweets_to_data_frame(self, tweets):\n",
        "        df = pd.DataFrame(data=[tweet.text for tweet in tweets], columns=['Tweets'])\n",
        "\n",
        "        df['id'] = np.array([tweet.id for tweet in tweets])\n",
        "        df['len'] = np.array([len(tweet.text) for tweet in tweets])\n",
        "        df['date'] = np.array([tweet.created_at for tweet in tweets])\n",
        "        df['source'] = np.array([tweet.source for tweet in tweets])\n",
        "        df['likes'] = np.array([tweet.favorite_count for tweet in tweets])\n",
        "        df['retweets'] = np.array([tweet.retweet_count for tweet in tweets])\n",
        "\n",
        "        return df\n",
        "        \n",
        "if __name__ == '__main__':\n",
        "\n",
        "    twitter_client = TwitterClient()\n",
        "    tweet_analyzer = TweetAnalyzer()\n",
        "\n",
        "    api = twitter_client.get_twitter_client_api()\n",
        "\n",
        "    tweets = api.user_timeline(screen_name=\"realDonaldTrump\", count=20)\n",
        "\n",
        "    #print(dir(tweets[0]))\n",
        "    #print(tweets[0].retweet_count)\n",
        "\n",
        "    df = tweet_analyzer.tweets_to_data_frame(tweets)\n",
        "    \n",
        "    print(df.head(10))\n"
      ],
      "execution_count": 23,
      "outputs": [
        {
          "output_type": "stream",
          "text": [
            "                                              Tweets  ...  retweets\n",
            "0  RT @USAmbIsrael: Today is the 2nd anniversary ...  ...      3074\n",
            "1                    RT @realDonaldTrump: OBAMAGATE!  ...     90273\n",
            "2  Just landed in Pennsylvania, see everyone soon...  ...      8820\n",
            "3  RT @MikeKellyPA: It’s been said that 90% of li...  ...      6075\n",
            "4  RT @GReschenthaler: FEMA is sending 83,400 tes...  ...      3681\n",
            "5   On my way, see you soon! https://t.co/Ava0nf3Eqq  ...      5897\n",
            "6  RT @PtRightsAdvoc: Thank you @realDonaldTrump ...  ...      3206\n",
            "7  On my way to PENNSYLVANIA! \\nhttps://t.co/knZn...  ...      9863\n",
            "8  RT @WhiteHouse: President @realDonaldTrump tal...  ...      8826\n",
            "9  RT @WhiteHouse: President @realDonaldTrump: \"E...  ...      8249\n",
            "\n",
            "[10 rows x 7 columns]\n"
          ],
          "name": "stdout"
        }
      ]
    }
  ]
}