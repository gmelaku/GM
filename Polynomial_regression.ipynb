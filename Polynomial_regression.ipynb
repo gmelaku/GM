{
  "nbformat": 4,
  "nbformat_minor": 0,
  "metadata": {
    "colab": {
      "name": "Polynomial regression.ipynb",
      "provenance": [],
      "collapsed_sections": [],
      "authorship_tag": "ABX9TyM6ZCXHp+b9vZka+xrInFNN",
      "include_colab_link": true
    },
    "kernelspec": {
      "name": "python3",
      "display_name": "Python 3"
    }
  },
  "cells": [
    {
      "cell_type": "markdown",
      "metadata": {
        "id": "view-in-github",
        "colab_type": "text"
      },
      "source": [
        "<a href=\"https://colab.research.google.com/github/gmelaku/GM/blob/master/Polynomial_regression.ipynb\" target=\"_parent\"><img src=\"https://colab.research.google.com/assets/colab-badge.svg\" alt=\"Open In Colab\"/></a>"
      ]
    },
    {
      "cell_type": "markdown",
      "metadata": {
        "id": "wIxZbRb8AXBN",
        "colab_type": "text"
      },
      "source": [
        "#Polynomial Regression\n",
        "It is a type of non-linear regression\n",
        "\n",
        "###About this Notebook\n",
        "In this notebook, we learn how to use scikit-learn for Polynomial regression. We download a dataset that is related to fuel consumption and Carbon dioxide emission of cars. Then, we split our data into training and test sets, create a model using training set, evaluate our model using test set, and finally use model to predict unknown value."
      ]
    },
    {
      "cell_type": "markdown",
      "metadata": {
        "id": "ZuQvQInYBdgX",
        "colab_type": "text"
      },
      "source": [
        "##Importing Needed packages"
      ]
    },
    {
      "cell_type": "code",
      "metadata": {
        "id": "BLGVl81aAWVW",
        "colab_type": "code",
        "colab": {}
      },
      "source": [
        "import matplotlib.pyplot as plt\n",
        "import pandas as pd\n",
        "import pylab as pl\n",
        "import numpy as np\n",
        "%matplotlib inline"
      ],
      "execution_count": 0,
      "outputs": []
    },
    {
      "cell_type": "markdown",
      "metadata": {
        "id": "_j4rnNBCB4TS",
        "colab_type": "text"
      },
      "source": [
        "#Downloading Data\n",
        "To download the data, we will use !wget to download it from IBM Object Storage."
      ]
    },
    {
      "cell_type": "code",
      "metadata": {
        "id": "iRPXdVi9B6y1",
        "colab_type": "code",
        "colab": {
          "base_uri": "https://localhost:8080/",
          "height": 232
        },
        "outputId": "2c457f61-a136-49e4-fa80-3d0d6957cd19"
      },
      "source": [
        "!wget -O FuelConsumption.csv https://s3-api.us-geo.objectstorage.softlayer.net/cf-courses-data/CognitiveClass/ML0101ENv3/labs/FuelConsumptionCo2.csv"
      ],
      "execution_count": 2,
      "outputs": [
        {
          "output_type": "stream",
          "text": [
            "--2020-04-25 20:29:28--  https://s3-api.us-geo.objectstorage.softlayer.net/cf-courses-data/CognitiveClass/ML0101ENv3/labs/FuelConsumptionCo2.csv\n",
            "Resolving s3-api.us-geo.objectstorage.softlayer.net (s3-api.us-geo.objectstorage.softlayer.net)... 67.228.254.196\n",
            "Connecting to s3-api.us-geo.objectstorage.softlayer.net (s3-api.us-geo.objectstorage.softlayer.net)|67.228.254.196|:443... connected.\n",
            "HTTP request sent, awaiting response... 200 OK\n",
            "Length: 72629 (71K) [text/csv]\n",
            "Saving to: ‘FuelConsumption.csv’\n",
            "\n",
            "\rFuelConsumption.csv   0%[                    ]       0  --.-KB/s               \rFuelConsumption.csv 100%[===================>]  70.93K  --.-KB/s    in 0.03s   \n",
            "\n",
            "2020-04-25 20:29:28 (2.23 MB/s) - ‘FuelConsumption.csv’ saved [72629/72629]\n",
            "\n"
          ],
          "name": "stdout"
        }
      ]
    },
    {
      "cell_type": "markdown",
      "metadata": {
        "id": "FvDevdjQCNBP",
        "colab_type": "text"
      },
      "source": [
        "##Understanding the Data\n",
        "###FuelConsumption.csv:\n",
        "We have downloaded a fuel consumption dataset, FuelConsumption.csv, which contains model-specific fuel consumption ratings and estimated carbon dioxide emissions for new light-duty vehicles for retail sale in Canada. Dataset source\n",
        "\n",
        "MODELYEAR e.g. 2014\\\n",
        "MAKE e.g. Acura\\\n",
        "MODEL e.g. ILX\\\n",
        "VEHICLE CLASS e.g. SUV\\\n",
        "ENGINE SIZE e.g. 4.7\\\n",
        "CYLINDERS e.g 6\\\n",
        "TRANSMISSION e.g. A6\\\n",
        "FUEL CONSUMPTION in CITY(L/100 km) e.g. 9.9\\\n",
        "FUEL CONSUMPTION in HWY (L/100 km) e.g. 8.9\\\n",
        "FUEL CONSUMPTION COMB (L/100 km) e.g. 9.2\\\n",
        "CO2 EMISSIONS (g/km) e.g. 182 --> low --> 0"
      ]
    },
    {
      "cell_type": "markdown",
      "metadata": {
        "id": "aHktOksYChJk",
        "colab_type": "text"
      },
      "source": [
        "##Reading the data in Pandas"
      ]
    },
    {
      "cell_type": "code",
      "metadata": {
        "id": "snY3w5HWCWy6",
        "colab_type": "code",
        "colab": {
          "base_uri": "https://localhost:8080/",
          "height": 267
        },
        "outputId": "46d070e3-fd2d-43df-f9c3-53baf50af2bd"
      },
      "source": [
        "df = pd.read_csv(\"FuelConsumption.csv\")\n",
        "\n",
        "# take a look at the dataset\n",
        "df.head()"
      ],
      "execution_count": 3,
      "outputs": [
        {
          "output_type": "execute_result",
          "data": {
            "text/html": [
              "<div>\n",
              "<style scoped>\n",
              "    .dataframe tbody tr th:only-of-type {\n",
              "        vertical-align: middle;\n",
              "    }\n",
              "\n",
              "    .dataframe tbody tr th {\n",
              "        vertical-align: top;\n",
              "    }\n",
              "\n",
              "    .dataframe thead th {\n",
              "        text-align: right;\n",
              "    }\n",
              "</style>\n",
              "<table border=\"1\" class=\"dataframe\">\n",
              "  <thead>\n",
              "    <tr style=\"text-align: right;\">\n",
              "      <th></th>\n",
              "      <th>MODELYEAR</th>\n",
              "      <th>MAKE</th>\n",
              "      <th>MODEL</th>\n",
              "      <th>VEHICLECLASS</th>\n",
              "      <th>ENGINESIZE</th>\n",
              "      <th>CYLINDERS</th>\n",
              "      <th>TRANSMISSION</th>\n",
              "      <th>FUELTYPE</th>\n",
              "      <th>FUELCONSUMPTION_CITY</th>\n",
              "      <th>FUELCONSUMPTION_HWY</th>\n",
              "      <th>FUELCONSUMPTION_COMB</th>\n",
              "      <th>FUELCONSUMPTION_COMB_MPG</th>\n",
              "      <th>CO2EMISSIONS</th>\n",
              "    </tr>\n",
              "  </thead>\n",
              "  <tbody>\n",
              "    <tr>\n",
              "      <th>0</th>\n",
              "      <td>2014</td>\n",
              "      <td>ACURA</td>\n",
              "      <td>ILX</td>\n",
              "      <td>COMPACT</td>\n",
              "      <td>2.0</td>\n",
              "      <td>4</td>\n",
              "      <td>AS5</td>\n",
              "      <td>Z</td>\n",
              "      <td>9.9</td>\n",
              "      <td>6.7</td>\n",
              "      <td>8.5</td>\n",
              "      <td>33</td>\n",
              "      <td>196</td>\n",
              "    </tr>\n",
              "    <tr>\n",
              "      <th>1</th>\n",
              "      <td>2014</td>\n",
              "      <td>ACURA</td>\n",
              "      <td>ILX</td>\n",
              "      <td>COMPACT</td>\n",
              "      <td>2.4</td>\n",
              "      <td>4</td>\n",
              "      <td>M6</td>\n",
              "      <td>Z</td>\n",
              "      <td>11.2</td>\n",
              "      <td>7.7</td>\n",
              "      <td>9.6</td>\n",
              "      <td>29</td>\n",
              "      <td>221</td>\n",
              "    </tr>\n",
              "    <tr>\n",
              "      <th>2</th>\n",
              "      <td>2014</td>\n",
              "      <td>ACURA</td>\n",
              "      <td>ILX HYBRID</td>\n",
              "      <td>COMPACT</td>\n",
              "      <td>1.5</td>\n",
              "      <td>4</td>\n",
              "      <td>AV7</td>\n",
              "      <td>Z</td>\n",
              "      <td>6.0</td>\n",
              "      <td>5.8</td>\n",
              "      <td>5.9</td>\n",
              "      <td>48</td>\n",
              "      <td>136</td>\n",
              "    </tr>\n",
              "    <tr>\n",
              "      <th>3</th>\n",
              "      <td>2014</td>\n",
              "      <td>ACURA</td>\n",
              "      <td>MDX 4WD</td>\n",
              "      <td>SUV - SMALL</td>\n",
              "      <td>3.5</td>\n",
              "      <td>6</td>\n",
              "      <td>AS6</td>\n",
              "      <td>Z</td>\n",
              "      <td>12.7</td>\n",
              "      <td>9.1</td>\n",
              "      <td>11.1</td>\n",
              "      <td>25</td>\n",
              "      <td>255</td>\n",
              "    </tr>\n",
              "    <tr>\n",
              "      <th>4</th>\n",
              "      <td>2014</td>\n",
              "      <td>ACURA</td>\n",
              "      <td>RDX AWD</td>\n",
              "      <td>SUV - SMALL</td>\n",
              "      <td>3.5</td>\n",
              "      <td>6</td>\n",
              "      <td>AS6</td>\n",
              "      <td>Z</td>\n",
              "      <td>12.1</td>\n",
              "      <td>8.7</td>\n",
              "      <td>10.6</td>\n",
              "      <td>27</td>\n",
              "      <td>244</td>\n",
              "    </tr>\n",
              "  </tbody>\n",
              "</table>\n",
              "</div>"
            ],
            "text/plain": [
              "   MODELYEAR   MAKE  ... FUELCONSUMPTION_COMB_MPG CO2EMISSIONS\n",
              "0       2014  ACURA  ...                       33          196\n",
              "1       2014  ACURA  ...                       29          221\n",
              "2       2014  ACURA  ...                       48          136\n",
              "3       2014  ACURA  ...                       25          255\n",
              "4       2014  ACURA  ...                       27          244\n",
              "\n",
              "[5 rows x 13 columns]"
            ]
          },
          "metadata": {
            "tags": []
          },
          "execution_count": 3
        }
      ]
    },
    {
      "cell_type": "markdown",
      "metadata": {
        "id": "QgU-8E0VCtjv",
        "colab_type": "text"
      },
      "source": [
        "Lets select some features that we want to use for regression."
      ]
    },
    {
      "cell_type": "code",
      "metadata": {
        "id": "vLTBAZ43CoKA",
        "colab_type": "code",
        "colab": {
          "base_uri": "https://localhost:8080/",
          "height": 317
        },
        "outputId": "7fde4700-d82f-49fe-c677-eac7f1b398a7"
      },
      "source": [
        "cdf = df[['ENGINESIZE','CYLINDERS','FUELCONSUMPTION_COMB','CO2EMISSIONS']]\n",
        "cdf.head(9)"
      ],
      "execution_count": 4,
      "outputs": [
        {
          "output_type": "execute_result",
          "data": {
            "text/html": [
              "<div>\n",
              "<style scoped>\n",
              "    .dataframe tbody tr th:only-of-type {\n",
              "        vertical-align: middle;\n",
              "    }\n",
              "\n",
              "    .dataframe tbody tr th {\n",
              "        vertical-align: top;\n",
              "    }\n",
              "\n",
              "    .dataframe thead th {\n",
              "        text-align: right;\n",
              "    }\n",
              "</style>\n",
              "<table border=\"1\" class=\"dataframe\">\n",
              "  <thead>\n",
              "    <tr style=\"text-align: right;\">\n",
              "      <th></th>\n",
              "      <th>ENGINESIZE</th>\n",
              "      <th>CYLINDERS</th>\n",
              "      <th>FUELCONSUMPTION_COMB</th>\n",
              "      <th>CO2EMISSIONS</th>\n",
              "    </tr>\n",
              "  </thead>\n",
              "  <tbody>\n",
              "    <tr>\n",
              "      <th>0</th>\n",
              "      <td>2.0</td>\n",
              "      <td>4</td>\n",
              "      <td>8.5</td>\n",
              "      <td>196</td>\n",
              "    </tr>\n",
              "    <tr>\n",
              "      <th>1</th>\n",
              "      <td>2.4</td>\n",
              "      <td>4</td>\n",
              "      <td>9.6</td>\n",
              "      <td>221</td>\n",
              "    </tr>\n",
              "    <tr>\n",
              "      <th>2</th>\n",
              "      <td>1.5</td>\n",
              "      <td>4</td>\n",
              "      <td>5.9</td>\n",
              "      <td>136</td>\n",
              "    </tr>\n",
              "    <tr>\n",
              "      <th>3</th>\n",
              "      <td>3.5</td>\n",
              "      <td>6</td>\n",
              "      <td>11.1</td>\n",
              "      <td>255</td>\n",
              "    </tr>\n",
              "    <tr>\n",
              "      <th>4</th>\n",
              "      <td>3.5</td>\n",
              "      <td>6</td>\n",
              "      <td>10.6</td>\n",
              "      <td>244</td>\n",
              "    </tr>\n",
              "    <tr>\n",
              "      <th>5</th>\n",
              "      <td>3.5</td>\n",
              "      <td>6</td>\n",
              "      <td>10.0</td>\n",
              "      <td>230</td>\n",
              "    </tr>\n",
              "    <tr>\n",
              "      <th>6</th>\n",
              "      <td>3.5</td>\n",
              "      <td>6</td>\n",
              "      <td>10.1</td>\n",
              "      <td>232</td>\n",
              "    </tr>\n",
              "    <tr>\n",
              "      <th>7</th>\n",
              "      <td>3.7</td>\n",
              "      <td>6</td>\n",
              "      <td>11.1</td>\n",
              "      <td>255</td>\n",
              "    </tr>\n",
              "    <tr>\n",
              "      <th>8</th>\n",
              "      <td>3.7</td>\n",
              "      <td>6</td>\n",
              "      <td>11.6</td>\n",
              "      <td>267</td>\n",
              "    </tr>\n",
              "  </tbody>\n",
              "</table>\n",
              "</div>"
            ],
            "text/plain": [
              "   ENGINESIZE  CYLINDERS  FUELCONSUMPTION_COMB  CO2EMISSIONS\n",
              "0         2.0          4                   8.5           196\n",
              "1         2.4          4                   9.6           221\n",
              "2         1.5          4                   5.9           136\n",
              "3         3.5          6                  11.1           255\n",
              "4         3.5          6                  10.6           244\n",
              "5         3.5          6                  10.0           230\n",
              "6         3.5          6                  10.1           232\n",
              "7         3.7          6                  11.1           255\n",
              "8         3.7          6                  11.6           267"
            ]
          },
          "metadata": {
            "tags": []
          },
          "execution_count": 4
        }
      ]
    },
    {
      "cell_type": "markdown",
      "metadata": {
        "id": "zNHg0lXtC8Y3",
        "colab_type": "text"
      },
      "source": [
        "Lets plot Emission values with respect to Engine size:"
      ]
    },
    {
      "cell_type": "code",
      "metadata": {
        "id": "hwWlTWPWC98b",
        "colab_type": "code",
        "colab": {
          "base_uri": "https://localhost:8080/",
          "height": 280
        },
        "outputId": "3a87c5fe-6e99-4293-e50f-422fed3573d5"
      },
      "source": [
        "plt.scatter(cdf.ENGINESIZE, cdf.CO2EMISSIONS,  color='blue')\n",
        "plt.xlabel(\"Engine size\")\n",
        "plt.ylabel(\"Emission\")\n",
        "plt.show()"
      ],
      "execution_count": 5,
      "outputs": [
        {
          "output_type": "display_data",
          "data": {
            "image/png": "[encoded data removed]",
            "text/plain": [
              "<Figure size 432x288 with 1 Axes>"
            ]
          },
          "metadata": {
            "tags": [],
            "needs_background": "light"
          }
        }
      ]
    },
    {
      "cell_type": "markdown",
      "metadata": {
        "id": "ez5UDptTDRwL",
        "colab_type": "text"
      },
      "source": [
        "###Creating train and test dataset\n",
        "Train/Test Split involves splitting the dataset into training and testing sets respectively, which are mutually exclusive. After which, you train with the training set and test with the testing set."
      ]
    },
    {
      "cell_type": "code",
      "metadata": {
        "id": "OG8aJo6IDTpP",
        "colab_type": "code",
        "colab": {}
      },
      "source": [
        "msk = np.random.rand(len(df)) < 0.8\n",
        "train = cdf[msk]\n",
        "test = cdf[~msk]"
      ],
      "execution_count": 0,
      "outputs": []
    },
    {
      "cell_type": "markdown",
      "metadata": {
        "id": "8iw_hBPCDbVC",
        "colab_type": "text"
      },
      "source": [
        "##Polynomial regression\n",
        "\n",
        "Sometimes, the trend of data is not really linear, and looks curvy. In this case we can use Polynomial regression methods. In fact, many different regressions exist that can be used to fit whatever the dataset looks like, such as quadratic, cubic, and so on, and it can go on and on to infinite degrees.\n",
        "\n",
        "In essence, we can call all of these, polynomial regression, where the relationship between the independent variable x and the dependent variable y is modeled as an nth degree polynomial in x. Lets say you want to have a polynomial regression (let's make 2 degree polynomial):\n",
        "\n",
        "𝑦=𝑏+𝜃1𝑥+𝜃2𝑥2 \n",
        "Now, the question is: how we can fit our data on this equation while we have only x values, such as __Engine Size__? Well, we can create a few additional features: 1,  𝑥 , and  𝑥2 .\n",
        "\n",
        "__PloynomialFeatures()__ function in Scikit-learn library, drives a new feature sets from the original feature set. That is, a matrix will be generated consisting of all polynomial combinations of the features with degree less than or equal to the specified degree. For example, lets say the original feature set has only one feature, ENGINESIZE. Now, if we select the degree of the polynomial to be 2, then it generates 3 features, degree=0, degree=1 and degree=2:"
      ]
    },
    {
      "cell_type": "code",
      "metadata": {
        "id": "ZfRb2eA7Dd9G",
        "colab_type": "code",
        "colab": {
          "base_uri": "https://localhost:8080/",
          "height": 141
        },
        "outputId": "54c88c23-e809-42a9-8528-e76a927b0e8e"
      },
      "source": [
        "from sklearn.preprocessing import PolynomialFeatures\n",
        "from sklearn import linear_model\n",
        "train_x = np.asanyarray(train[['ENGINESIZE']])\n",
        "train_y = np.asanyarray(train[['CO2EMISSIONS']])\n",
        "\n",
        "test_x = np.asanyarray(test[['ENGINESIZE']])\n",
        "test_y = np.asanyarray(test[['CO2EMISSIONS']])\n",
        "\n",
        "\n",
        "poly = PolynomialFeatures(degree=2)\n",
        "train_x_poly = poly.fit_transform(train_x)\n",
        "train_x_poly"
      ],
      "execution_count": 7,
      "outputs": [
        {
          "output_type": "execute_result",
          "data": {
            "text/plain": [
              "array([[ 1.  ,  1.5 ,  2.25],\n",
              "       [ 1.  ,  3.5 , 12.25],\n",
              "       [ 1.  ,  3.5 , 12.25],\n",
              "       ...,\n",
              "       [ 1.  ,  3.  ,  9.  ],\n",
              "       [ 1.  ,  3.2 , 10.24],\n",
              "       [ 1.  ,  3.2 , 10.24]])"
            ]
          },
          "metadata": {
            "tags": []
          },
          "execution_count": 7
        }
      ]
    },
    {
      "cell_type": "markdown",
      "metadata": {
        "id": "-n_jOdffDy4S",
        "colab_type": "text"
      },
      "source": [
        "fit_transform takes our x values, and output a list of our data raised from power of 0 to power of 2 (since we set the degree of our polynomial to 2).\n",
        "\n",
        "![image.png](data:image/png;base64,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)\n",
        "in our example\n",
        "\n",
        "![image.png](data:image/png;base64,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)\n",
        "It looks like feature sets for multiple linear regression analysis, right? Yes. It Does. Indeed, Polynomial regression is a special case of linear regression, with the main idea of how do you select your features. Just consider replacing the  𝑥  with  𝑥1 ,  𝑥21  with  𝑥2 , and so on. Then the degree 2 equation would be turn into:\n",
        "\n",
        "𝑦=𝑏+𝜃1𝑥1+𝜃2𝑥2 \n",
        "Now, we can deal with it as 'linear regression' problem. Therefore, this polynomial regression is considered to be a special case of traditional multiple linear regression. So, you can use the same mechanism as linear regression to solve such a problems.\n",
        "\n",
        "so we can use __LinearRegression()__ function to solve it:"
      ]
    },
    {
      "cell_type": "code",
      "metadata": {
        "id": "U2MfiosmEKSZ",
        "colab_type": "code",
        "colab": {
          "base_uri": "https://localhost:8080/",
          "height": 52
        },
        "outputId": "96912d7e-cf90-44a0-d63f-a07bd85a82fb"
      },
      "source": [
        "clf = linear_model.LinearRegression()\n",
        "train_y_ = clf.fit(train_x_poly, train_y)\n",
        "# The coefficients\n",
        "print ('Coefficients: ', clf.coef_)\n",
        "print ('Intercept: ',clf.intercept_)"
      ],
      "execution_count": 8,
      "outputs": [
        {
          "output_type": "stream",
          "text": [
            "Coefficients:  [[ 0.         47.70792881 -1.14595333]]\n",
            "Intercept:  [112.04906025]\n"
          ],
          "name": "stdout"
        }
      ]
    },
    {
      "cell_type": "markdown",
      "metadata": {
        "id": "wZBMpjrAESKo",
        "colab_type": "text"
      },
      "source": [
        "As mentioned before, __Coefficient__ and __Intercept__ , are the parameters of the fit curvy line. Given that it is a typical multiple linear regression, with 3 parameters, and knowing that the parameters are the intercept and coefficients of hyperplane, sklearn has estimated them from our new set of feature sets. Lets plot it:"
      ]
    },
    {
      "cell_type": "code",
      "metadata": {
        "id": "vR_Mum1-EXB2",
        "colab_type": "code",
        "colab": {
          "base_uri": "https://localhost:8080/",
          "height": 297
        },
        "outputId": "cf8dd897-125a-4fc6-b28e-9ac8157a76a6"
      },
      "source": [
        "plt.scatter(train.ENGINESIZE, train.CO2EMISSIONS,  color='blue')\n",
        "XX = np.arange(0.0, 10.0, 0.1)\n",
        "yy = clf.intercept_[0]+ clf.coef_[0][1]*XX+ clf.coef_[0][2]*np.power(XX, 2)\n",
        "plt.plot(XX, yy, '-r' )\n",
        "plt.xlabel(\"Engine size\")\n",
        "plt.ylabel(\"Emission\")"
      ],
      "execution_count": 9,
      "outputs": [
        {
          "output_type": "execute_result",
          "data": {
            "text/plain": [
              "Text(0, 0.5, 'Emission')"
            ]
          },
          "metadata": {
            "tags": []
          },
          "execution_count": 9
        },
        {
          "output_type": "display_data",
          "data": {
            "image/png": "[encoded data removed]",
            "text/plain": [
              "<Figure size 432x288 with 1 Axes>"
            ]
          },
          "metadata": {
            "tags": [],
            "needs_background": "light"
          }
        }
      ]
    },
    {
      "cell_type": "markdown",
      "metadata": {
        "id": "mRDRZu82EdGl",
        "colab_type": "text"
      },
      "source": [
        "#Evaluation"
      ]
    },
    {
      "cell_type": "code",
      "metadata": {
        "id": "MGiuqA5JEemd",
        "colab_type": "code",
        "colab": {
          "base_uri": "https://localhost:8080/",
          "height": 70
        },
        "outputId": "cf1c7c9f-cf42-40b9-8e83-64d8eb04867d"
      },
      "source": [
        "from sklearn.metrics import r2_score\n",
        "\n",
        "test_x_poly = poly.fit_transform(test_x)\n",
        "test_y_ = clf.predict(test_x_poly)\n",
        "\n",
        "print(\"Mean absolute error: %.2f\" % np.mean(np.absolute(test_y_ - test_y)))\n",
        "print(\"Residual sum of squares (MSE): %.2f\" % np.mean((test_y_ - test_y) ** 2))\n",
        "print(\"R2-score: %.2f\" % r2_score(test_y_ , test_y) )"
      ],
      "execution_count": 10,
      "outputs": [
        {
          "output_type": "stream",
          "text": [
            "Mean absolute error: 21.58\n",
            "Residual sum of squares (MSE): 853.26\n",
            "R2-score: 0.72\n"
          ],
          "name": "stdout"
        }
      ]
    },
    {
      "cell_type": "markdown",
      "metadata": {
        "id": "J5O8WkVuEnCM",
        "colab_type": "text"
      },
      "source": [
        "#Practice\n",
        "Try to use a polynomial regression with the dataset but this time with degree three (cubic). Does it result in better accuracy?"
      ]
    },
    {
      "cell_type": "code",
      "metadata": {
        "id": "0KWQqlKfEhI4",
        "colab_type": "code",
        "colab": {
          "base_uri": "https://localhost:8080/",
          "height": 368
        },
        "outputId": "51bc89be-56f7-4e3e-f3fd-54a24bfa60af"
      },
      "source": [
        "poly3 = PolynomialFeatures(degree=3)\n",
        "train_x_poly3 = poly3.fit_transform(train_x)\n",
        "clf3 = linear_model.LinearRegression()\n",
        "train_y3_ = clf3.fit(train_x_poly3, train_y)\n",
        "# The coefficients\n",
        "print ('Coefficients: ', clf3.coef_)\n",
        "print ('Intercept: ',clf3.intercept_)\n",
        "plt.scatter(train.ENGINESIZE, train.CO2EMISSIONS,  color='blue')\n",
        "XX = np.arange(0.0, 10.0, 0.1)\n",
        "yy = clf3.intercept_[0]+ clf3.coef_[0][1]*XX + clf3.coef_[0][2]*np.power(XX, 2) + clf3.coef_[0][3]*np.power(XX, 3)\n",
        "plt.plot(XX, yy, '-r' )\n",
        "plt.xlabel(\"Engine size\")\n",
        "plt.ylabel(\"Emission\")\n",
        "test_x_poly3 = poly3.fit_transform(test_x)\n",
        "test_y3_ = clf3.predict(test_x_poly3)\n",
        "print(\"Mean absolute error: %.2f\" % np.mean(np.absolute(test_y3_ - test_y)))\n",
        "print(\"Residual sum of squares (MSE): %.2f\" % np.mean((test_y3_ - test_y) ** 2))\n",
        "print(\"R2-score: %.2f\" % r2_score(test_y3_ , test_y) )"
      ],
      "execution_count": 11,
      "outputs": [
        {
          "output_type": "stream",
          "text": [
            "Coefficients:  [[ 0.         21.67517274  5.97076931 -0.58546333]]\n",
            "Intercept:  [139.89932966]\n",
            "Mean absolute error: 21.62\n",
            "Residual sum of squares (MSE): 860.39\n",
            "R2-score: 0.72\n"
          ],
          "name": "stdout"
        },
        {
          "output_type": "display_data",
          "data": {
            "image/png": "[encoded data removed]",
            "text/plain": [
              "<Figure size 432x288 with 1 Axes>"
            ]
          },
          "metadata": {
            "tags": [],
            "needs_background": "light"
          }
        }
      ]
    }
  ]
}